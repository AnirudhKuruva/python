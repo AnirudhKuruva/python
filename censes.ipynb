{
 "cells": [
  {
   "cell_type": "raw",
   "id": "f146ca80",
   "metadata": {},
   "source": [
    "Name: Anirudh K EmpID:FF738"
   ]
  },
  {
   "cell_type": "code",
   "execution_count": 1,
   "id": "3e527f24",
   "metadata": {},
   "outputs": [],
   "source": [
    "import time\n",
    "\n",
    "start = time.time()"
   ]
  },
  {
   "cell_type": "code",
   "execution_count": 2,
   "id": "e748e4dd",
   "metadata": {},
   "outputs": [
    {
     "name": "stdout",
     "output_type": "stream",
     "text": [
      "1.2.4\n",
      "3.3.4\n",
      "0.11.1\n"
     ]
    }
   ],
   "source": [
    "#Importing libraries\n",
    "import numpy as np \n",
    "import pandas as pd\n",
    "import matplotlib.pyplot as plt\n",
    "import seaborn as sns\n",
    "import matplotlib\n",
    "print(pd.__version__)\n",
    "print(matplotlib.__version__)\n",
    "print(sns.__version__)"
   ]
  },
  {
   "cell_type": "markdown",
   "id": "63eaecde",
   "metadata": {},
   "source": [
    "## Problem statement 1:(Keep the relevant data)"
   ]
  },
  {
   "cell_type": "code",
   "execution_count": 3,
   "id": "a237c3e8",
   "metadata": {},
   "outputs": [],
   "source": [
    "# we are creating a list of columns needed and passing it in usecols parameter which will help in retrieve required columns."
   ]
  },
  {
   "cell_type": "code",
   "execution_count": 4,
   "id": "8944f49f",
   "metadata": {},
   "outputs": [],
   "source": [
    "cols=[\"State name\",\"District name\",\"Population\",\"Male\",\"Female\",\"Literate\",\"Male_Literate\",\"Female_Literate\",\"Rural_Households\",\"Urban_Households\",\"Households\",\"Age_Group_0_29\",\"Age_Group_30_49\",\"Age_Group_50\",\"Age not stated\"]"
   ]
  },
  {
   "cell_type": "code",
   "execution_count": 5,
   "id": "651688e4",
   "metadata": {},
   "outputs": [],
   "source": [
    "df=pd.read_csv(r\"/home/student/unclean/census_2011.csv\",usecols=cols)"
   ]
  },
  {
   "cell_type": "code",
   "execution_count": 6,
   "id": "67b1476e",
   "metadata": {
    "scrolled": true
   },
   "outputs": [
    {
     "data": {
      "text/html": [
       "<div>\n",
       "<style scoped>\n",
       "    .dataframe tbody tr th:only-of-type {\n",
       "        vertical-align: middle;\n",
       "    }\n",
       "\n",
       "    .dataframe tbody tr th {\n",
       "        vertical-align: top;\n",
       "    }\n",
       "\n",
       "    .dataframe thead th {\n",
       "        text-align: right;\n",
       "    }\n",
       "</style>\n",
       "<table border=\"1\" class=\"dataframe\">\n",
       "  <thead>\n",
       "    <tr style=\"text-align: right;\">\n",
       "      <th></th>\n",
       "      <th>State name</th>\n",
       "      <th>District name</th>\n",
       "      <th>Population</th>\n",
       "      <th>Male</th>\n",
       "      <th>Female</th>\n",
       "      <th>Literate</th>\n",
       "      <th>Male_Literate</th>\n",
       "      <th>Female_Literate</th>\n",
       "      <th>Rural_Households</th>\n",
       "      <th>Urban_Households</th>\n",
       "      <th>Households</th>\n",
       "      <th>Age_Group_0_29</th>\n",
       "      <th>Age_Group_30_49</th>\n",
       "      <th>Age_Group_50</th>\n",
       "      <th>Age not stated</th>\n",
       "    </tr>\n",
       "  </thead>\n",
       "  <tbody>\n",
       "    <tr>\n",
       "      <th>0</th>\n",
       "      <td>JAMMU AND KASHMIR</td>\n",
       "      <td>Kupwara</td>\n",
       "      <td>870354.0</td>\n",
       "      <td>474190.0</td>\n",
       "      <td>396164.0</td>\n",
       "      <td>439654.0</td>\n",
       "      <td>282823.0</td>\n",
       "      <td>156831.0</td>\n",
       "      <td>158438.0</td>\n",
       "      <td>NaN</td>\n",
       "      <td>181664.0</td>\n",
       "      <td>600759.0</td>\n",
       "      <td>178435.0</td>\n",
       "      <td>89679.0</td>\n",
       "      <td>1481.0</td>\n",
       "    </tr>\n",
       "    <tr>\n",
       "      <th>1</th>\n",
       "      <td>JAMMU AND KASHMIR</td>\n",
       "      <td>Badgam</td>\n",
       "      <td>753745.0</td>\n",
       "      <td>NaN</td>\n",
       "      <td>355704.0</td>\n",
       "      <td>335649.0</td>\n",
       "      <td>207741.0</td>\n",
       "      <td>127908.0</td>\n",
       "      <td>160649.0</td>\n",
       "      <td>27190.0</td>\n",
       "      <td>187839.0</td>\n",
       "      <td>503223.0</td>\n",
       "      <td>160933.0</td>\n",
       "      <td>88978.0</td>\n",
       "      <td>611.0</td>\n",
       "    </tr>\n",
       "    <tr>\n",
       "      <th>2</th>\n",
       "      <td>JAMMU AND KASHMIR</td>\n",
       "      <td>Leh(Ladakh)</td>\n",
       "      <td>133487.0</td>\n",
       "      <td>78971.0</td>\n",
       "      <td>54516.0</td>\n",
       "      <td>93770.0</td>\n",
       "      <td>62834.0</td>\n",
       "      <td>30936.0</td>\n",
       "      <td>36920.0</td>\n",
       "      <td>17474.0</td>\n",
       "      <td>54394.0</td>\n",
       "      <td>70703.0</td>\n",
       "      <td>41515.0</td>\n",
       "      <td>NaN</td>\n",
       "      <td>250.0</td>\n",
       "    </tr>\n",
       "    <tr>\n",
       "      <th>3</th>\n",
       "      <td>JAMMU AND KASHMIR</td>\n",
       "      <td>Kargil</td>\n",
       "      <td>140802.0</td>\n",
       "      <td>NaN</td>\n",
       "      <td>63017.0</td>\n",
       "      <td>NaN</td>\n",
       "      <td>56301.0</td>\n",
       "      <td>29935.0</td>\n",
       "      <td>40370.0</td>\n",
       "      <td>7774.0</td>\n",
       "      <td>48144.0</td>\n",
       "      <td>87532.0</td>\n",
       "      <td>35561.0</td>\n",
       "      <td>17488.0</td>\n",
       "      <td>221.0</td>\n",
       "    </tr>\n",
       "    <tr>\n",
       "      <th>4</th>\n",
       "      <td>JAMMU AND KASHMIR</td>\n",
       "      <td>Punch</td>\n",
       "      <td>NaN</td>\n",
       "      <td>251899.0</td>\n",
       "      <td>224936.0</td>\n",
       "      <td>261724.0</td>\n",
       "      <td>163333.0</td>\n",
       "      <td>98391.0</td>\n",
       "      <td>132139.0</td>\n",
       "      <td>15269.0</td>\n",
       "      <td>147408.0</td>\n",
       "      <td>304979.0</td>\n",
       "      <td>109818.0</td>\n",
       "      <td>61334.0</td>\n",
       "      <td>704.0</td>\n",
       "    </tr>\n",
       "  </tbody>\n",
       "</table>\n",
       "</div>"
      ],
      "text/plain": [
       "          State name District name  Population      Male    Female  Literate  \\\n",
       "0  JAMMU AND KASHMIR       Kupwara    870354.0  474190.0  396164.0  439654.0   \n",
       "1  JAMMU AND KASHMIR        Badgam    753745.0       NaN  355704.0  335649.0   \n",
       "2  JAMMU AND KASHMIR   Leh(Ladakh)    133487.0   78971.0   54516.0   93770.0   \n",
       "3  JAMMU AND KASHMIR        Kargil    140802.0       NaN   63017.0       NaN   \n",
       "4  JAMMU AND KASHMIR         Punch         NaN  251899.0  224936.0  261724.0   \n",
       "\n",
       "   Male_Literate  Female_Literate  Rural_Households  Urban_Households  \\\n",
       "0       282823.0         156831.0          158438.0               NaN   \n",
       "1       207741.0         127908.0          160649.0           27190.0   \n",
       "2        62834.0          30936.0           36920.0           17474.0   \n",
       "3        56301.0          29935.0           40370.0            7774.0   \n",
       "4       163333.0          98391.0          132139.0           15269.0   \n",
       "\n",
       "   Households  Age_Group_0_29  Age_Group_30_49  Age_Group_50  Age not stated  \n",
       "0    181664.0        600759.0         178435.0       89679.0          1481.0  \n",
       "1    187839.0        503223.0         160933.0       88978.0           611.0  \n",
       "2     54394.0         70703.0          41515.0           NaN           250.0  \n",
       "3     48144.0         87532.0          35561.0       17488.0           221.0  \n",
       "4    147408.0        304979.0         109818.0       61334.0           704.0  "
      ]
     },
     "execution_count": 6,
     "metadata": {},
     "output_type": "execute_result"
    }
   ],
   "source": [
    "df.head()"
   ]
  },
  {
   "cell_type": "markdown",
   "id": "190eb5cc",
   "metadata": {},
   "source": [
    "## Problem Statement 2: (Rename the Column names)"
   ]
  },
  {
   "cell_type": "code",
   "execution_count": 7,
   "id": "ed51ebe6",
   "metadata": {},
   "outputs": [],
   "source": [
    "cols_renamed=[\"State/UT\",\"District\",\"Population\",\"Male\",\"Female\",\"Literate\",\"Literate_Male\",\"Literate_Female\",\"Households_Rural\",\"Households_Urban\",\"Households\",\"Young_and_Adult\",\"Middle_Aged\",\"Senior_Citizen\",\"Age_Not_Stated\"]"
   ]
  },
  {
   "cell_type": "code",
   "execution_count": 8,
   "id": "0206bbfe",
   "metadata": {},
   "outputs": [],
   "source": [
    "df.columns=cols_renamed"
   ]
  },
  {
   "cell_type": "code",
   "execution_count": 9,
   "id": "f911ec7c",
   "metadata": {
    "scrolled": true
   },
   "outputs": [
    {
     "name": "stdout",
     "output_type": "stream",
     "text": [
      "<class 'pandas.core.frame.DataFrame'>\n",
      "RangeIndex: 640 entries, 0 to 639\n",
      "Data columns (total 15 columns):\n",
      " #   Column            Non-Null Count  Dtype  \n",
      "---  ------            --------------  -----  \n",
      " 0   State/UT          640 non-null    object \n",
      " 1   District          640 non-null    object \n",
      " 2   Population        610 non-null    float64\n",
      " 3   Male              610 non-null    float64\n",
      " 4   Female            607 non-null    float64\n",
      " 5   Literate          604 non-null    float64\n",
      " 6   Literate_Male     609 non-null    float64\n",
      " 7   Literate_Female   613 non-null    float64\n",
      " 8   Households_Rural  598 non-null    float64\n",
      " 9   Households_Urban  607 non-null    float64\n",
      " 10  Households        608 non-null    float64\n",
      " 11  Young_and_Adult   609 non-null    float64\n",
      " 12  Middle_Aged       610 non-null    float64\n",
      " 13  Senior_Citizen    609 non-null    float64\n",
      " 14  Age_Not_Stated    605 non-null    float64\n",
      "dtypes: float64(13), object(2)\n",
      "memory usage: 75.1+ KB\n"
     ]
    }
   ],
   "source": [
    "df.info()"
   ]
  },
  {
   "cell_type": "code",
   "execution_count": 10,
   "id": "aa0b123a",
   "metadata": {
    "scrolled": true
   },
   "outputs": [
    {
     "data": {
      "text/html": [
       "<div>\n",
       "<style scoped>\n",
       "    .dataframe tbody tr th:only-of-type {\n",
       "        vertical-align: middle;\n",
       "    }\n",
       "\n",
       "    .dataframe tbody tr th {\n",
       "        vertical-align: top;\n",
       "    }\n",
       "\n",
       "    .dataframe thead th {\n",
       "        text-align: right;\n",
       "    }\n",
       "</style>\n",
       "<table border=\"1\" class=\"dataframe\">\n",
       "  <thead>\n",
       "    <tr style=\"text-align: right;\">\n",
       "      <th></th>\n",
       "      <th>State/UT</th>\n",
       "      <th>District</th>\n",
       "      <th>Population</th>\n",
       "      <th>Male</th>\n",
       "      <th>Female</th>\n",
       "      <th>Literate</th>\n",
       "      <th>Literate_Male</th>\n",
       "      <th>Literate_Female</th>\n",
       "      <th>Households_Rural</th>\n",
       "      <th>Households_Urban</th>\n",
       "      <th>Households</th>\n",
       "      <th>Young_and_Adult</th>\n",
       "      <th>Middle_Aged</th>\n",
       "      <th>Senior_Citizen</th>\n",
       "      <th>Age_Not_Stated</th>\n",
       "    </tr>\n",
       "  </thead>\n",
       "  <tbody>\n",
       "    <tr>\n",
       "      <th>0</th>\n",
       "      <td>JAMMU AND KASHMIR</td>\n",
       "      <td>Kupwara</td>\n",
       "      <td>870354.0</td>\n",
       "      <td>474190.0</td>\n",
       "      <td>396164.0</td>\n",
       "      <td>439654.0</td>\n",
       "      <td>282823.0</td>\n",
       "      <td>156831.0</td>\n",
       "      <td>158438.0</td>\n",
       "      <td>NaN</td>\n",
       "      <td>181664.0</td>\n",
       "      <td>600759.0</td>\n",
       "      <td>178435.0</td>\n",
       "      <td>89679.0</td>\n",
       "      <td>1481.0</td>\n",
       "    </tr>\n",
       "    <tr>\n",
       "      <th>1</th>\n",
       "      <td>JAMMU AND KASHMIR</td>\n",
       "      <td>Badgam</td>\n",
       "      <td>753745.0</td>\n",
       "      <td>NaN</td>\n",
       "      <td>355704.0</td>\n",
       "      <td>335649.0</td>\n",
       "      <td>207741.0</td>\n",
       "      <td>127908.0</td>\n",
       "      <td>160649.0</td>\n",
       "      <td>27190.0</td>\n",
       "      <td>187839.0</td>\n",
       "      <td>503223.0</td>\n",
       "      <td>160933.0</td>\n",
       "      <td>88978.0</td>\n",
       "      <td>611.0</td>\n",
       "    </tr>\n",
       "    <tr>\n",
       "      <th>2</th>\n",
       "      <td>JAMMU AND KASHMIR</td>\n",
       "      <td>Leh(Ladakh)</td>\n",
       "      <td>133487.0</td>\n",
       "      <td>78971.0</td>\n",
       "      <td>54516.0</td>\n",
       "      <td>93770.0</td>\n",
       "      <td>62834.0</td>\n",
       "      <td>30936.0</td>\n",
       "      <td>36920.0</td>\n",
       "      <td>17474.0</td>\n",
       "      <td>54394.0</td>\n",
       "      <td>70703.0</td>\n",
       "      <td>41515.0</td>\n",
       "      <td>NaN</td>\n",
       "      <td>250.0</td>\n",
       "    </tr>\n",
       "    <tr>\n",
       "      <th>3</th>\n",
       "      <td>JAMMU AND KASHMIR</td>\n",
       "      <td>Kargil</td>\n",
       "      <td>140802.0</td>\n",
       "      <td>NaN</td>\n",
       "      <td>63017.0</td>\n",
       "      <td>NaN</td>\n",
       "      <td>56301.0</td>\n",
       "      <td>29935.0</td>\n",
       "      <td>40370.0</td>\n",
       "      <td>7774.0</td>\n",
       "      <td>48144.0</td>\n",
       "      <td>87532.0</td>\n",
       "      <td>35561.0</td>\n",
       "      <td>17488.0</td>\n",
       "      <td>221.0</td>\n",
       "    </tr>\n",
       "    <tr>\n",
       "      <th>4</th>\n",
       "      <td>JAMMU AND KASHMIR</td>\n",
       "      <td>Punch</td>\n",
       "      <td>NaN</td>\n",
       "      <td>251899.0</td>\n",
       "      <td>224936.0</td>\n",
       "      <td>261724.0</td>\n",
       "      <td>163333.0</td>\n",
       "      <td>98391.0</td>\n",
       "      <td>132139.0</td>\n",
       "      <td>15269.0</td>\n",
       "      <td>147408.0</td>\n",
       "      <td>304979.0</td>\n",
       "      <td>109818.0</td>\n",
       "      <td>61334.0</td>\n",
       "      <td>704.0</td>\n",
       "    </tr>\n",
       "  </tbody>\n",
       "</table>\n",
       "</div>"
      ],
      "text/plain": [
       "            State/UT     District  Population      Male    Female  Literate  \\\n",
       "0  JAMMU AND KASHMIR      Kupwara    870354.0  474190.0  396164.0  439654.0   \n",
       "1  JAMMU AND KASHMIR       Badgam    753745.0       NaN  355704.0  335649.0   \n",
       "2  JAMMU AND KASHMIR  Leh(Ladakh)    133487.0   78971.0   54516.0   93770.0   \n",
       "3  JAMMU AND KASHMIR       Kargil    140802.0       NaN   63017.0       NaN   \n",
       "4  JAMMU AND KASHMIR        Punch         NaN  251899.0  224936.0  261724.0   \n",
       "\n",
       "   Literate_Male  Literate_Female  Households_Rural  Households_Urban  \\\n",
       "0       282823.0         156831.0          158438.0               NaN   \n",
       "1       207741.0         127908.0          160649.0           27190.0   \n",
       "2        62834.0          30936.0           36920.0           17474.0   \n",
       "3        56301.0          29935.0           40370.0            7774.0   \n",
       "4       163333.0          98391.0          132139.0           15269.0   \n",
       "\n",
       "   Households  Young_and_Adult  Middle_Aged  Senior_Citizen  Age_Not_Stated  \n",
       "0    181664.0         600759.0     178435.0         89679.0          1481.0  \n",
       "1    187839.0         503223.0     160933.0         88978.0           611.0  \n",
       "2     54394.0          70703.0      41515.0             NaN           250.0  \n",
       "3     48144.0          87532.0      35561.0         17488.0           221.0  \n",
       "4    147408.0         304979.0     109818.0         61334.0           704.0  "
      ]
     },
     "execution_count": 10,
     "metadata": {},
     "output_type": "execute_result"
    }
   ],
   "source": [
    "df.head()"
   ]
  },
  {
   "cell_type": "markdown",
   "id": "293443e8",
   "metadata": {},
   "source": [
    "## Problem Statement 3: (Rename State/UT Names)"
   ]
  },
  {
   "cell_type": "code",
   "execution_count": 11,
   "id": "78fa7ccf",
   "metadata": {},
   "outputs": [
    {
     "data": {
      "text/plain": [
       "array(['JAMMU AND KASHMIR', 'HIMACHAL PRADESH', 'PUNJAB', 'CHANDIGARH',\n",
       "       'UTTARAKHAND', 'HARYANA', 'NCT OF DELHI', 'RAJASTHAN',\n",
       "       'UTTAR PRADESH', 'BIHAR', 'SIKKIM', 'ARUNACHAL PRADESH',\n",
       "       'NAGALAND', 'MANIPUR', 'MIZORAM', 'TRIPURA', 'MEGHALAYA', 'ASSAM',\n",
       "       'WEST BENGAL', 'JHARKHAND', 'ORISSA', 'CHHATTISGARH',\n",
       "       'MADHYA PRADESH', 'GUJARAT', 'DAMAN AND DIU',\n",
       "       'DADRA AND NAGAR HAVELI', 'MAHARASHTRA', 'ANDHRA PRADESH',\n",
       "       'KARNATAKA', 'GOA', 'LAKSHADWEEP', 'KERALA', 'TAMIL NADU',\n",
       "       'PONDICHERRY', 'ANDAMAN AND NICOBAR ISLANDS'], dtype=object)"
      ]
     },
     "execution_count": 11,
     "metadata": {},
     "output_type": "execute_result"
    }
   ],
   "source": [
    "df[\"State/UT\"].unique()"
   ]
  },
  {
   "cell_type": "code",
   "execution_count": 12,
   "id": "6cac1f19",
   "metadata": {},
   "outputs": [],
   "source": [
    "def caseset(word):\n",
    "    word=word.lower()\n",
    "    nw=\"\"\n",
    "    for i in word.split(\" \"):\n",
    "        if (i!=\"and\"):\n",
    "            i=i.capitalize()\n",
    "            nw+=i\n",
    "            nw+=\" \"\n",
    "        else:\n",
    "            nw+=i\n",
    "            nw+=\" \"\n",
    "            \n",
    "    return nw.strip()        "
   ]
  },
  {
   "cell_type": "code",
   "execution_count": 13,
   "id": "6c658cc0",
   "metadata": {
    "scrolled": true
   },
   "outputs": [],
   "source": [
    "df[\"State/UT\"]=df[\"State/UT\"].apply(caseset)"
   ]
  },
  {
   "cell_type": "code",
   "execution_count": 14,
   "id": "d45dacca",
   "metadata": {
    "scrolled": true
   },
   "outputs": [
    {
     "data": {
      "text/plain": [
       "array(['Jammu and Kashmir', 'Himachal Pradesh', 'Punjab', 'Chandigarh',\n",
       "       'Uttarakhand', 'Haryana', 'Nct Of Delhi', 'Rajasthan',\n",
       "       'Uttar Pradesh', 'Bihar', 'Sikkim', 'Arunachal Pradesh',\n",
       "       'Nagaland', 'Manipur', 'Mizoram', 'Tripura', 'Meghalaya', 'Assam',\n",
       "       'West Bengal', 'Jharkhand', 'Orissa', 'Chhattisgarh',\n",
       "       'Madhya Pradesh', 'Gujarat', 'Daman and Diu',\n",
       "       'Dadra and Nagar Haveli', 'Maharashtra', 'Andhra Pradesh',\n",
       "       'Karnataka', 'Goa', 'Lakshadweep', 'Kerala', 'Tamil Nadu',\n",
       "       'Pondicherry', 'Andaman and Nicobar Islands'], dtype=object)"
      ]
     },
     "execution_count": 14,
     "metadata": {},
     "output_type": "execute_result"
    }
   ],
   "source": [
    "df[\"State/UT\"].unique()"
   ]
  },
  {
   "cell_type": "markdown",
   "id": "c339f049",
   "metadata": {},
   "source": [
    "## Problem Statement 4: (New State/UT formation)"
   ]
  },
  {
   "cell_type": "code",
   "execution_count": 15,
   "id": "7339e647",
   "metadata": {},
   "outputs": [
    {
     "name": "stdout",
     "output_type": "stream",
     "text": [
      "['Adilabad', 'Nizamabad', 'Karimnagar', 'Medak', 'Hyderabad', 'Rangareddy', 'Mahbubnagar', 'Nalgonda', 'Warangal', 'Khammam']\n"
     ]
    }
   ],
   "source": [
    "tel=[]\n",
    "with open('/home/student/unclean/Telangana.txt', 'r') as file:\n",
    "    for line in file:\n",
    "        tel.append(line.strip())\n",
    "print(tel)"
   ]
  },
  {
   "cell_type": "code",
   "execution_count": 16,
   "id": "0a21fef7",
   "metadata": {
    "scrolled": false
   },
   "outputs": [
    {
     "name": "stderr",
     "output_type": "stream",
     "text": [
      "<ipython-input-16-5a0e0a509c81>:3: SettingWithCopyWarning: \n",
      "A value is trying to be set on a copy of a slice from a DataFrame\n",
      "\n",
      "See the caveats in the documentation: https://pandas.pydata.org/pandas-docs/stable/user_guide/indexing.html#returning-a-view-versus-a-copy\n",
      "  df[\"State/UT\"][i]=\"Telangana\"\n"
     ]
    }
   ],
   "source": [
    "for i in range(len(df)):\n",
    "    if df[\"District\"][i] in tel:\n",
    "        df[\"State/UT\"][i]=\"Telangana\"\n"
   ]
  },
  {
   "cell_type": "code",
   "execution_count": 17,
   "id": "5f857c00",
   "metadata": {},
   "outputs": [],
   "source": [
    "laddak=[\"Leh\",\"Kargil\"]"
   ]
  },
  {
   "cell_type": "code",
   "execution_count": 18,
   "id": "53044bd4",
   "metadata": {},
   "outputs": [
    {
     "name": "stderr",
     "output_type": "stream",
     "text": [
      "<ipython-input-18-7aafd96cda52>:3: SettingWithCopyWarning: \n",
      "A value is trying to be set on a copy of a slice from a DataFrame\n",
      "\n",
      "See the caveats in the documentation: https://pandas.pydata.org/pandas-docs/stable/user_guide/indexing.html#returning-a-view-versus-a-copy\n",
      "  df[\"State/UT\"][i]=\"Laddakh\"\n"
     ]
    }
   ],
   "source": [
    "for i in range(len(df)):\n",
    "    if df[\"District\"][i] in laddak:\n",
    "        df[\"State/UT\"][i]=\"Laddakh\""
   ]
  },
  {
   "cell_type": "code",
   "execution_count": 19,
   "id": "9b3e9ae8",
   "metadata": {
    "scrolled": true
   },
   "outputs": [
    {
     "data": {
      "text/plain": [
       "array(['Jammu and Kashmir', 'Laddakh', 'Himachal Pradesh', 'Punjab',\n",
       "       'Chandigarh', 'Uttarakhand', 'Haryana', 'Nct Of Delhi',\n",
       "       'Rajasthan', 'Uttar Pradesh', 'Bihar', 'Sikkim',\n",
       "       'Arunachal Pradesh', 'Nagaland', 'Manipur', 'Mizoram', 'Tripura',\n",
       "       'Meghalaya', 'Assam', 'West Bengal', 'Jharkhand', 'Orissa',\n",
       "       'Chhattisgarh', 'Madhya Pradesh', 'Gujarat', 'Daman and Diu',\n",
       "       'Dadra and Nagar Haveli', 'Maharashtra', 'Telangana',\n",
       "       'Andhra Pradesh', 'Karnataka', 'Goa', 'Lakshadweep', 'Kerala',\n",
       "       'Tamil Nadu', 'Pondicherry', 'Andaman and Nicobar Islands'],\n",
       "      dtype=object)"
      ]
     },
     "execution_count": 19,
     "metadata": {},
     "output_type": "execute_result"
    }
   ],
   "source": [
    "df[\"State/UT\"].unique()"
   ]
  },
  {
   "cell_type": "markdown",
   "id": "8d4342a1",
   "metadata": {},
   "source": [
    "## Problem Statement 5: (Find and process Missing Data)"
   ]
  },
  {
   "cell_type": "code",
   "execution_count": 20,
   "id": "987730da",
   "metadata": {},
   "outputs": [
    {
     "name": "stdout",
     "output_type": "stream",
     "text": [
      "[0.0, 0.0, 4.6875, 4.6875, 5.15625, 5.625, 4.84375, 4.21875, 6.5625, 5.15625, 5.0, 4.84375, 4.6875, 4.84375, 5.46875]\n"
     ]
    }
   ],
   "source": [
    "total_rows=len(df)\n",
    "bef_per=[]\n",
    "for i in df.columns:\n",
    "    \n",
    "    x=df[str(i)].isna().sum()\n",
    "   # print(total_rows,x)\n",
    "    per=(x*100)/(total_rows)\n",
    "    bef_per.append(per)\n",
    "print(bef_per)"
   ]
  },
  {
   "cell_type": "code",
   "execution_count": 21,
   "id": "3fc66c5d",
   "metadata": {},
   "outputs": [
    {
     "data": {
      "text/plain": [
       "Index(['State/UT', 'District', 'Population', 'Male', 'Female', 'Literate',\n",
       "       'Literate_Male', 'Literate_Female', 'Households_Rural',\n",
       "       'Households_Urban', 'Households', 'Young_and_Adult', 'Middle_Aged',\n",
       "       'Senior_Citizen', 'Age_Not_Stated'],\n",
       "      dtype='object')"
      ]
     },
     "execution_count": 21,
     "metadata": {},
     "output_type": "execute_result"
    }
   ],
   "source": [
    "df.columns"
   ]
  },
  {
   "cell_type": "code",
   "execution_count": 22,
   "id": "1e89d084",
   "metadata": {},
   "outputs": [],
   "source": [
    "# to fill null data based on other columns\n",
    "df[\"Population\"].fillna(df[\"Male\"]+df[\"Female\"],inplace=True)\n",
    "df[\"Population\"].fillna(df[\"Young_and_Adult\"]+df[\"Middle_Aged\"]+df[\"Senior_Citizen\"]+df[\"Age_Not_Stated\"],inplace=True)\n",
    "\n",
    "df[\"Young_and_Adult\"].fillna(df[\"Population\"]-(df[\"Middle_Aged\"]+df[\"Senior_Citizen\"]+df[\"Age_Not_Stated\"]),inplace=True)\n",
    "df[\"Middle_Aged\"].fillna(df[\"Population\"]-(df[\"Young_and_Adult\"]+df[\"Senior_Citizen\"]+df[\"Age_Not_Stated\"]),inplace=True)\n",
    "df[\"Senior_Citizen\"].fillna(df[\"Population\"]-(df[\"Young_and_Adult\"]+df[\"Middle_Aged\"]+df[\"Age_Not_Stated\"]),inplace=True)\n",
    "df[\"Age_Not_Stated\"].fillna(df[\"Population\"]-(df[\"Young_and_Adult\"]+df[\"Middle_Aged\"]+df[\"Senior_Citizen\"]),inplace=True)\n",
    "\n",
    "\n",
    "df[\"Male\"].fillna(df[\"Population\"]-df[\"Female\"],inplace=True)\n",
    "df[\"Female\"].fillna(df[\"Population\"]-df[\"Male\"],inplace=True)\n",
    "\n",
    "df[\"Literate\"].fillna(df[\"Literate_Male\"]+df[\"Literate_Female\"],inplace=True)\n",
    "df[\"Literate_Male\"].fillna(df[\"Literate\"]-df[\"Literate_Female\"],inplace=True)\n",
    "df[\"Literate_Female\"].fillna(df[\"Literate\"]-df[\"Literate_Male\"],inplace=True)\n",
    "\n",
    "df[\"Households\"].fillna(df[\"Households_Rural\"]+df[\"Households_Urban\"],inplace=True)\n",
    "df[\"Households_Rural\"].fillna(df[\"Households\"]-df[\"Households_Urban\"],inplace=True)\n",
    "df[\"Households_Urban\"].fillna(df[\"Households\"]-df[\"Households_Rural\"],inplace=True)\n"
   ]
  },
  {
   "cell_type": "code",
   "execution_count": 23,
   "id": "80083464",
   "metadata": {
    "scrolled": true
   },
   "outputs": [
    {
     "name": "stdout",
     "output_type": "stream",
     "text": [
      "[0.0, 0.0, 0.15625, 0.15625, 0.0, 0.3125, 0.3125, 0.3125, 0.9375, 0.46875, 0.78125, 0.625, 0.9375, 1.25, 0.46875]\n"
     ]
    }
   ],
   "source": [
    "total_rows=len(df)\n",
    "after_per=[]\n",
    "for i in df.columns:\n",
    "    \n",
    "    x=df[str(i)].isna().sum()\n",
    "   # print(total_rows,x)\n",
    "    per=(x*100)/(total_rows)\n",
    "    after_per.append(per)\n",
    "print(after_per)"
   ]
  },
  {
   "cell_type": "code",
   "execution_count": 24,
   "id": "43635b4d",
   "metadata": {},
   "outputs": [
    {
     "data": {
      "image/png": "[encoded data removed]",
      "text/plain": [
       "<Figure size 1152x432 with 1 Axes>"
      ]
     },
     "metadata": {
      "needs_background": "light"
     },
     "output_type": "display_data"
    }
   ],
   "source": [
    "plt.figure(figsize=(16,6))\n",
    "plt.bar(list(df.columns),bef_per)\n",
    "plt.bar(list(df.columns),after_per)\n",
    "plt.xticks(rotation=70);\n",
    "plt.title(\"Column wise Null value analysis before and after filling data\");"
   ]
  },
  {
   "cell_type": "markdown",
   "id": "5eaabfe9",
   "metadata": {},
   "source": [
    "## Problem Statement 6: (Save Data)"
   ]
  },
  {
   "cell_type": "code",
   "execution_count": 25,
   "id": "c0f2c607",
   "metadata": {},
   "outputs": [],
   "source": [
    "task6=df.copy(deep=True)\n",
    "task6.to_csv(\"/home/student/clean_data/census.csv\")"
   ]
  },
  {
   "cell_type": "code",
   "execution_count": 26,
   "id": "4610d4d8",
   "metadata": {},
   "outputs": [],
   "source": [
    "newdf=pd.read_csv(\"/home/student/clean_data/census.csv\")"
   ]
  },
  {
   "cell_type": "code",
   "execution_count": 27,
   "id": "b76c350c",
   "metadata": {
    "scrolled": true
   },
   "outputs": [
    {
     "name": "stdout",
     "output_type": "stream",
     "text": [
      "<class 'pandas.core.frame.DataFrame'>\n",
      "RangeIndex: 640 entries, 0 to 639\n",
      "Data columns (total 16 columns):\n",
      " #   Column            Non-Null Count  Dtype  \n",
      "---  ------            --------------  -----  \n",
      " 0   Unnamed: 0        640 non-null    int64  \n",
      " 1   State/UT          640 non-null    object \n",
      " 2   District          640 non-null    object \n",
      " 3   Population        639 non-null    float64\n",
      " 4   Male              639 non-null    float64\n",
      " 5   Female            640 non-null    float64\n",
      " 6   Literate          638 non-null    float64\n",
      " 7   Literate_Male     638 non-null    float64\n",
      " 8   Literate_Female   638 non-null    float64\n",
      " 9   Households_Rural  634 non-null    float64\n",
      " 10  Households_Urban  637 non-null    float64\n",
      " 11  Households        635 non-null    float64\n",
      " 12  Young_and_Adult   636 non-null    float64\n",
      " 13  Middle_Aged       634 non-null    float64\n",
      " 14  Senior_Citizen    632 non-null    float64\n",
      " 15  Age_Not_Stated    637 non-null    float64\n",
      "dtypes: float64(13), int64(1), object(2)\n",
      "memory usage: 80.1+ KB\n"
     ]
    }
   ],
   "source": [
    "newdf.info()"
   ]
  },
  {
   "cell_type": "markdown",
   "id": "5209d6f4",
   "metadata": {},
   "source": [
    "# Extract Information from the housing data along with the census data"
   ]
  },
  {
   "cell_type": "markdown",
   "id": "9236133f",
   "metadata": {},
   "source": [
    "## Problem Statement 7: (Process the relevant data)"
   ]
  },
  {
   "cell_type": "code",
   "execution_count": 28,
   "id": "7cfd4536",
   "metadata": {},
   "outputs": [],
   "source": [
    "hcols=[\"District Name\",\"Rural/Urban\",\"Total Number of households\",\"Total Number of Livable\",\"Total Number of Dilapidated\",\"Latrine_premise\"]"
   ]
  },
  {
   "cell_type": "code",
   "execution_count": 29,
   "id": "bf4a6457",
   "metadata": {},
   "outputs": [],
   "source": [
    "house=pd.read_csv(r\"/home/student/unclean/housing.csv\",usecols=hcols)"
   ]
  },
  {
   "cell_type": "code",
   "execution_count": 30,
   "id": "55ff346d",
   "metadata": {},
   "outputs": [
    {
     "data": {
      "text/html": [
       "<div>\n",
       "<style scoped>\n",
       "    .dataframe tbody tr th:only-of-type {\n",
       "        vertical-align: middle;\n",
       "    }\n",
       "\n",
       "    .dataframe tbody tr th {\n",
       "        vertical-align: top;\n",
       "    }\n",
       "\n",
       "    .dataframe thead th {\n",
       "        text-align: right;\n",
       "    }\n",
       "</style>\n",
       "<table border=\"1\" class=\"dataframe\">\n",
       "  <thead>\n",
       "    <tr style=\"text-align: right;\">\n",
       "      <th></th>\n",
       "      <th>District Name</th>\n",
       "      <th>Rural/Urban</th>\n",
       "      <th>Total Number of households</th>\n",
       "      <th>Total Number of Livable</th>\n",
       "      <th>Total Number of Dilapidated</th>\n",
       "      <th>Latrine_premise</th>\n",
       "    </tr>\n",
       "  </thead>\n",
       "  <tbody>\n",
       "    <tr>\n",
       "      <th>0</th>\n",
       "      <td>Kupwara</td>\n",
       "      <td>Rural</td>\n",
       "      <td>100</td>\n",
       "      <td>58.1</td>\n",
       "      <td>8.3</td>\n",
       "      <td>48.9</td>\n",
       "    </tr>\n",
       "    <tr>\n",
       "      <th>1</th>\n",
       "      <td>Kupwara</td>\n",
       "      <td>Total</td>\n",
       "      <td>100</td>\n",
       "      <td>57.3</td>\n",
       "      <td>7.9</td>\n",
       "      <td>50.9</td>\n",
       "    </tr>\n",
       "    <tr>\n",
       "      <th>2</th>\n",
       "      <td>Kupwara</td>\n",
       "      <td>Urban</td>\n",
       "      <td>100</td>\n",
       "      <td>49.5</td>\n",
       "      <td>4.8</td>\n",
       "      <td>70.2</td>\n",
       "    </tr>\n",
       "    <tr>\n",
       "      <th>3</th>\n",
       "      <td>Badgam</td>\n",
       "      <td>Rural</td>\n",
       "      <td>100</td>\n",
       "      <td>46.3</td>\n",
       "      <td>3.9</td>\n",
       "      <td>83.3</td>\n",
       "    </tr>\n",
       "    <tr>\n",
       "      <th>4</th>\n",
       "      <td>Badgam</td>\n",
       "      <td>Total</td>\n",
       "      <td>100</td>\n",
       "      <td>44.7</td>\n",
       "      <td>3.8</td>\n",
       "      <td>84.3</td>\n",
       "    </tr>\n",
       "  </tbody>\n",
       "</table>\n",
       "</div>"
      ],
      "text/plain": [
       "  District Name Rural/Urban  Total Number of households  \\\n",
       "0       Kupwara       Rural                         100   \n",
       "1       Kupwara       Total                         100   \n",
       "2       Kupwara       Urban                         100   \n",
       "3        Badgam       Rural                         100   \n",
       "4        Badgam       Total                         100   \n",
       "\n",
       "   Total Number of Livable  Total Number of Dilapidated  Latrine_premise  \n",
       "0                     58.1                          8.3             48.9  \n",
       "1                     57.3                          7.9             50.9  \n",
       "2                     49.5                          4.8             70.2  \n",
       "3                     46.3                          3.9             83.3  \n",
       "4                     44.7                          3.8             84.3  "
      ]
     },
     "execution_count": 30,
     "metadata": {},
     "output_type": "execute_result"
    }
   ],
   "source": [
    "house.head()"
   ]
  },
  {
   "cell_type": "code",
   "execution_count": 31,
   "id": "f591cb37",
   "metadata": {},
   "outputs": [
    {
     "data": {
      "text/plain": [
       "636.0"
      ]
     },
     "execution_count": 31,
     "metadata": {},
     "output_type": "execute_result"
    }
   ],
   "source": [
    "len(house[\"District Name\"])/3"
   ]
  },
  {
   "cell_type": "code",
   "execution_count": 32,
   "id": "88191ff6",
   "metadata": {},
   "outputs": [
    {
     "data": {
      "text/plain": [
       "634"
      ]
     },
     "execution_count": 32,
     "metadata": {},
     "output_type": "execute_result"
    }
   ],
   "source": [
    "len(house[\"District Name\"].unique()) "
   ]
  },
  {
   "cell_type": "code",
   "execution_count": 33,
   "id": "116451b5",
   "metadata": {},
   "outputs": [],
   "source": [
    "cen_cols=[\"District\",\"Households_Rural\",\"Households_Urban\",\"Population\",\"Households\"]"
   ]
  },
  {
   "cell_type": "code",
   "execution_count": 34,
   "id": "fd3ee75c",
   "metadata": {},
   "outputs": [
    {
     "name": "stdout",
     "output_type": "stream",
     "text": [
      "<class 'pandas.core.frame.DataFrame'>\n",
      "RangeIndex: 640 entries, 0 to 639\n",
      "Data columns (total 5 columns):\n",
      " #   Column            Non-Null Count  Dtype  \n",
      "---  ------            --------------  -----  \n",
      " 0   District          640 non-null    object \n",
      " 1   Population        639 non-null    float64\n",
      " 2   Households_Rural  634 non-null    float64\n",
      " 3   Households_Urban  637 non-null    float64\n",
      " 4   Households        635 non-null    float64\n",
      "dtypes: float64(4), object(1)\n",
      "memory usage: 25.1+ KB\n"
     ]
    }
   ],
   "source": [
    "census=pd.read_csv(\"/home/student/clean_data/census.csv\",usecols=cen_cols)\n",
    "census.info()"
   ]
  },
  {
   "cell_type": "code",
   "execution_count": 35,
   "id": "77240ffe",
   "metadata": {
    "scrolled": true
   },
   "outputs": [
    {
     "name": "stdout",
     "output_type": "stream",
     "text": [
      "Disricts in census data but not in housing data:\n",
      "Lahul AND Spiti |Dadra AND Nagar Haveli |Lakshadweep |PONDICHERRY |North  AND Middle Andaman |\n",
      "Disricts in housing data but not in census data:\n",
      "Lahul & Spiti |Dadra & Nagar Haveli |LAKSHADWEEP |Puducherry |North  & Middle Andaman |"
     ]
    }
   ],
   "source": [
    "print(\"Disricts in census data but not in housing data:\")\n",
    "for i in list(census[\"District\"]):\n",
    "    if i not in list(house[\"District Name\"]):\n",
    "        print(i,end=\" |\")\n",
    "print(\"\\nDisricts in housing data but not in census data:\")\n",
    "for i in list(house[\"District Name\"].unique()):\n",
    "    if i not in list(census[\"District\"]):\n",
    "        print(i,end=\" |\")"
   ]
  },
  {
   "cell_type": "code",
   "execution_count": 36,
   "id": "f5d191f0",
   "metadata": {},
   "outputs": [],
   "source": [
    "# as above are same districts but having different name case we are here going to replace housing data districts\n",
    "house[\"District Name\"]=house[\"District Name\"].replace([\"Lahul & Spiti\",\"Dadra & Nagar Haveli\",\"LAKSHADWEEP\",\"Puducherry\",\"North  & Middle Andaman\"],[\"Lahul AND Spiti\",\"Dadra AND Nagar Haveli\",\"Lakshadweep\",\"PONDICHERRY\",\"North  AND Middle Andaman\"])"
   ]
  },
  {
   "cell_type": "code",
   "execution_count": 37,
   "id": "2e7fcc43",
   "metadata": {},
   "outputs": [
    {
     "name": "stdout",
     "output_type": "stream",
     "text": [
      "Disricts in census data but not in housing data:\n",
      "\n",
      "Disricts in housing data but not in census data:\n"
     ]
    }
   ],
   "source": [
    "print(\"Disricts in census data but not in housing data:\")\n",
    "for i in list(census[\"District\"]):\n",
    "    if i not in list(house[\"District Name\"]):\n",
    "        print(i,end=\" |\")\n",
    "print(\"\\nDisricts in housing data but not in census data:\")\n",
    "for i in list(house[\"District Name\"].unique()):\n",
    "    if i not in list(census[\"District\"]):\n",
    "        print(i,end=\" |\")"
   ]
  },
  {
   "cell_type": "code",
   "execution_count": 38,
   "id": "6513036e",
   "metadata": {},
   "outputs": [],
   "source": [
    "house.rename(columns={\"District Name\":\"District\"},inplace=True)"
   ]
  },
  {
   "cell_type": "code",
   "execution_count": 39,
   "id": "e2a4424d",
   "metadata": {},
   "outputs": [],
   "source": [
    "house_rural=house[house[\"Rural/Urban\"]==\"Rural\"].reset_index()\n",
    "house_urban=house[house[\"Rural/Urban\"]==\"Urban\"].reset_index()"
   ]
  },
  {
   "cell_type": "code",
   "execution_count": 40,
   "id": "3f9ee61d",
   "metadata": {
    "scrolled": true
   },
   "outputs": [
    {
     "data": {
      "text/html": [
       "<div>\n",
       "<style scoped>\n",
       "    .dataframe tbody tr th:only-of-type {\n",
       "        vertical-align: middle;\n",
       "    }\n",
       "\n",
       "    .dataframe tbody tr th {\n",
       "        vertical-align: top;\n",
       "    }\n",
       "\n",
       "    .dataframe thead th {\n",
       "        text-align: right;\n",
       "    }\n",
       "</style>\n",
       "<table border=\"1\" class=\"dataframe\">\n",
       "  <thead>\n",
       "    <tr style=\"text-align: right;\">\n",
       "      <th></th>\n",
       "      <th>District</th>\n",
       "      <th>Population</th>\n",
       "      <th>Households_Rural</th>\n",
       "      <th>Households_Urban</th>\n",
       "      <th>Households</th>\n",
       "    </tr>\n",
       "  </thead>\n",
       "  <tbody>\n",
       "    <tr>\n",
       "      <th>0</th>\n",
       "      <td>Kupwara</td>\n",
       "      <td>870354.0</td>\n",
       "      <td>158438.0</td>\n",
       "      <td>23226.0</td>\n",
       "      <td>181664.0</td>\n",
       "    </tr>\n",
       "    <tr>\n",
       "      <th>1</th>\n",
       "      <td>Badgam</td>\n",
       "      <td>753745.0</td>\n",
       "      <td>160649.0</td>\n",
       "      <td>27190.0</td>\n",
       "      <td>187839.0</td>\n",
       "    </tr>\n",
       "    <tr>\n",
       "      <th>2</th>\n",
       "      <td>Leh(Ladakh)</td>\n",
       "      <td>133487.0</td>\n",
       "      <td>36920.0</td>\n",
       "      <td>17474.0</td>\n",
       "      <td>54394.0</td>\n",
       "    </tr>\n",
       "    <tr>\n",
       "      <th>3</th>\n",
       "      <td>Kargil</td>\n",
       "      <td>140802.0</td>\n",
       "      <td>40370.0</td>\n",
       "      <td>7774.0</td>\n",
       "      <td>48144.0</td>\n",
       "    </tr>\n",
       "    <tr>\n",
       "      <th>4</th>\n",
       "      <td>Punch</td>\n",
       "      <td>476835.0</td>\n",
       "      <td>132139.0</td>\n",
       "      <td>15269.0</td>\n",
       "      <td>147408.0</td>\n",
       "    </tr>\n",
       "    <tr>\n",
       "      <th>...</th>\n",
       "      <td>...</td>\n",
       "      <td>...</td>\n",
       "      <td>...</td>\n",
       "      <td>...</td>\n",
       "      <td>...</td>\n",
       "    </tr>\n",
       "    <tr>\n",
       "      <th>635</th>\n",
       "      <td>Mahe</td>\n",
       "      <td>41816.0</td>\n",
       "      <td>0.0</td>\n",
       "      <td>12110.0</td>\n",
       "      <td>12110.0</td>\n",
       "    </tr>\n",
       "    <tr>\n",
       "      <th>636</th>\n",
       "      <td>Karaikal</td>\n",
       "      <td>200222.0</td>\n",
       "      <td>35618.0</td>\n",
       "      <td>33715.0</td>\n",
       "      <td>69333.0</td>\n",
       "    </tr>\n",
       "    <tr>\n",
       "      <th>637</th>\n",
       "      <td>Nicobars</td>\n",
       "      <td>36842.0</td>\n",
       "      <td>15958.0</td>\n",
       "      <td>0.0</td>\n",
       "      <td>15958.0</td>\n",
       "    </tr>\n",
       "    <tr>\n",
       "      <th>638</th>\n",
       "      <td>North  AND Middle Andaman</td>\n",
       "      <td>105597.0</td>\n",
       "      <td>39091.0</td>\n",
       "      <td>1094.0</td>\n",
       "      <td>40185.0</td>\n",
       "    </tr>\n",
       "    <tr>\n",
       "      <th>639</th>\n",
       "      <td>South Andaman</td>\n",
       "      <td>238142.0</td>\n",
       "      <td>34901.0</td>\n",
       "      <td>50631.0</td>\n",
       "      <td>85532.0</td>\n",
       "    </tr>\n",
       "  </tbody>\n",
       "</table>\n",
       "<p>640 rows × 5 columns</p>\n",
       "</div>"
      ],
      "text/plain": [
       "                      District  Population  Households_Rural  \\\n",
       "0                      Kupwara    870354.0          158438.0   \n",
       "1                       Badgam    753745.0          160649.0   \n",
       "2                  Leh(Ladakh)    133487.0           36920.0   \n",
       "3                       Kargil    140802.0           40370.0   \n",
       "4                        Punch    476835.0          132139.0   \n",
       "..                         ...         ...               ...   \n",
       "635                       Mahe     41816.0               0.0   \n",
       "636                   Karaikal    200222.0           35618.0   \n",
       "637                   Nicobars     36842.0           15958.0   \n",
       "638  North  AND Middle Andaman    105597.0           39091.0   \n",
       "639              South Andaman    238142.0           34901.0   \n",
       "\n",
       "     Households_Urban  Households  \n",
       "0             23226.0    181664.0  \n",
       "1             27190.0    187839.0  \n",
       "2             17474.0     54394.0  \n",
       "3              7774.0     48144.0  \n",
       "4             15269.0    147408.0  \n",
       "..                ...         ...  \n",
       "635           12110.0     12110.0  \n",
       "636           33715.0     69333.0  \n",
       "637               0.0     15958.0  \n",
       "638            1094.0     40185.0  \n",
       "639           50631.0     85532.0  \n",
       "\n",
       "[640 rows x 5 columns]"
      ]
     },
     "execution_count": 40,
     "metadata": {},
     "output_type": "execute_result"
    }
   ],
   "source": [
    "census"
   ]
  },
  {
   "cell_type": "code",
   "execution_count": 41,
   "id": "568edb55",
   "metadata": {
    "scrolled": true
   },
   "outputs": [
    {
     "data": {
      "text/plain": [
       "District                         0\n",
       "Population                       1\n",
       "Households_Rural                 6\n",
       "Households_Urban                 3\n",
       "Households                       5\n",
       "index_x                          9\n",
       "Rural/Urban_x                    9\n",
       "Total Number of households_x     9\n",
       "Total Number of Livable_x        9\n",
       "Total Number of Dilapidated_x    9\n",
       "Latrine_premise_x                9\n",
       "index_y                          3\n",
       "Rural/Urban_y                    3\n",
       "Total Number of households_y     3\n",
       "Total Number of Livable_y        3\n",
       "Total Number of Dilapidated_y    3\n",
       "Latrine_premise_y                3\n",
       "dtype: int64"
      ]
     },
     "execution_count": 41,
     "metadata": {},
     "output_type": "execute_result"
    }
   ],
   "source": [
    "new_house=pd.merge(census,house_rural,on=\"District\",how=\"left\")\n",
    "new_house=pd.merge(new_house,house_urban,on=\"District\",how=\"left\")\n",
    "new_house.isna().sum()"
   ]
  },
  {
   "cell_type": "code",
   "execution_count": 42,
   "id": "14955dda",
   "metadata": {
    "scrolled": true
   },
   "outputs": [
    {
     "data": {
      "text/plain": [
       "(676, 17)"
      ]
     },
     "execution_count": 42,
     "metadata": {},
     "output_type": "execute_result"
    }
   ],
   "source": [
    "new_house.shape"
   ]
  },
  {
   "cell_type": "code",
   "execution_count": 43,
   "id": "fc819245",
   "metadata": {},
   "outputs": [],
   "source": [
    "final_house=pd.DataFrame()\n",
    "final_house[\"District\"]=new_house[\"District\"]\n",
    "\n"
   ]
  },
  {
   "cell_type": "code",
   "execution_count": 44,
   "id": "7858b929",
   "metadata": {
    "scrolled": false
   },
   "outputs": [
    {
     "data": {
      "text/html": [
       "<div>\n",
       "<style scoped>\n",
       "    .dataframe tbody tr th:only-of-type {\n",
       "        vertical-align: middle;\n",
       "    }\n",
       "\n",
       "    .dataframe tbody tr th {\n",
       "        vertical-align: top;\n",
       "    }\n",
       "\n",
       "    .dataframe thead th {\n",
       "        text-align: right;\n",
       "    }\n",
       "</style>\n",
       "<table border=\"1\" class=\"dataframe\">\n",
       "  <thead>\n",
       "    <tr style=\"text-align: right;\">\n",
       "      <th></th>\n",
       "      <th>District</th>\n",
       "      <th>Households_Rural</th>\n",
       "      <th>Households_Rural_Livable</th>\n",
       "      <th>Households_Rural_Dilapidated</th>\n",
       "      <th>Households_Rural_Toilet_Premise</th>\n",
       "      <th>Households_Urban</th>\n",
       "      <th>Households_Urban_Livable</th>\n",
       "      <th>Households_Urban_Dilapidated</th>\n",
       "      <th>Households_Urban_Toilet_Premise</th>\n",
       "    </tr>\n",
       "  </thead>\n",
       "  <tbody>\n",
       "    <tr>\n",
       "      <th>0</th>\n",
       "      <td>Kupwara</td>\n",
       "      <td>158438.0</td>\n",
       "      <td>92052.0</td>\n",
       "      <td>13150.0</td>\n",
       "      <td>77476.0</td>\n",
       "      <td>23226.0</td>\n",
       "      <td>11497.0</td>\n",
       "      <td>1115.0</td>\n",
       "      <td>16305.0</td>\n",
       "    </tr>\n",
       "    <tr>\n",
       "      <th>1</th>\n",
       "      <td>Badgam</td>\n",
       "      <td>160649.0</td>\n",
       "      <td>74380.0</td>\n",
       "      <td>6265.0</td>\n",
       "      <td>133821.0</td>\n",
       "      <td>27190.0</td>\n",
       "      <td>9190.0</td>\n",
       "      <td>707.0</td>\n",
       "      <td>24580.0</td>\n",
       "    </tr>\n",
       "    <tr>\n",
       "      <th>2</th>\n",
       "      <td>Leh(Ladakh)</td>\n",
       "      <td>36920.0</td>\n",
       "      <td>19014.0</td>\n",
       "      <td>775.0</td>\n",
       "      <td>32527.0</td>\n",
       "      <td>17474.0</td>\n",
       "      <td>9541.0</td>\n",
       "      <td>192.0</td>\n",
       "      <td>16740.0</td>\n",
       "    </tr>\n",
       "    <tr>\n",
       "      <th>3</th>\n",
       "      <td>Kargil</td>\n",
       "      <td>40370.0</td>\n",
       "      <td>29591.0</td>\n",
       "      <td>1413.0</td>\n",
       "      <td>39078.0</td>\n",
       "      <td>7774.0</td>\n",
       "      <td>5349.0</td>\n",
       "      <td>93.0</td>\n",
       "      <td>7580.0</td>\n",
       "    </tr>\n",
       "    <tr>\n",
       "      <th>4</th>\n",
       "      <td>Punch</td>\n",
       "      <td>132139.0</td>\n",
       "      <td>78623.0</td>\n",
       "      <td>3171.0</td>\n",
       "      <td>18103.0</td>\n",
       "      <td>15269.0</td>\n",
       "      <td>4168.0</td>\n",
       "      <td>122.0</td>\n",
       "      <td>11498.0</td>\n",
       "    </tr>\n",
       "    <tr>\n",
       "      <th>...</th>\n",
       "      <td>...</td>\n",
       "      <td>...</td>\n",
       "      <td>...</td>\n",
       "      <td>...</td>\n",
       "      <td>...</td>\n",
       "      <td>...</td>\n",
       "      <td>...</td>\n",
       "      <td>...</td>\n",
       "      <td>...</td>\n",
       "    </tr>\n",
       "    <tr>\n",
       "      <th>671</th>\n",
       "      <td>Mahe</td>\n",
       "      <td>0.0</td>\n",
       "      <td>NaN</td>\n",
       "      <td>NaN</td>\n",
       "      <td>NaN</td>\n",
       "      <td>12110.0</td>\n",
       "      <td>1913.0</td>\n",
       "      <td>133.0</td>\n",
       "      <td>11844.0</td>\n",
       "    </tr>\n",
       "    <tr>\n",
       "      <th>672</th>\n",
       "      <td>Karaikal</td>\n",
       "      <td>35618.0</td>\n",
       "      <td>13107.0</td>\n",
       "      <td>748.0</td>\n",
       "      <td>16954.0</td>\n",
       "      <td>33715.0</td>\n",
       "      <td>7080.0</td>\n",
       "      <td>405.0</td>\n",
       "      <td>25084.0</td>\n",
       "    </tr>\n",
       "    <tr>\n",
       "      <th>673</th>\n",
       "      <td>Nicobars</td>\n",
       "      <td>15958.0</td>\n",
       "      <td>3798.0</td>\n",
       "      <td>191.0</td>\n",
       "      <td>12910.0</td>\n",
       "      <td>0.0</td>\n",
       "      <td>NaN</td>\n",
       "      <td>NaN</td>\n",
       "      <td>NaN</td>\n",
       "    </tr>\n",
       "    <tr>\n",
       "      <th>674</th>\n",
       "      <td>North  AND Middle Andaman</td>\n",
       "      <td>39091.0</td>\n",
       "      <td>17317.0</td>\n",
       "      <td>1055.0</td>\n",
       "      <td>18764.0</td>\n",
       "      <td>1094.0</td>\n",
       "      <td>612.0</td>\n",
       "      <td>72.0</td>\n",
       "      <td>614.0</td>\n",
       "    </tr>\n",
       "    <tr>\n",
       "      <th>675</th>\n",
       "      <td>South Andaman</td>\n",
       "      <td>34901.0</td>\n",
       "      <td>11692.0</td>\n",
       "      <td>1222.0</td>\n",
       "      <td>22581.0</td>\n",
       "      <td>50631.0</td>\n",
       "      <td>10835.0</td>\n",
       "      <td>608.0</td>\n",
       "      <td>44454.0</td>\n",
       "    </tr>\n",
       "  </tbody>\n",
       "</table>\n",
       "<p>676 rows × 9 columns</p>\n",
       "</div>"
      ],
      "text/plain": [
       "                      District  Households_Rural  Households_Rural_Livable  \\\n",
       "0                      Kupwara          158438.0                   92052.0   \n",
       "1                       Badgam          160649.0                   74380.0   \n",
       "2                  Leh(Ladakh)           36920.0                   19014.0   \n",
       "3                       Kargil           40370.0                   29591.0   \n",
       "4                        Punch          132139.0                   78623.0   \n",
       "..                         ...               ...                       ...   \n",
       "671                       Mahe               0.0                       NaN   \n",
       "672                   Karaikal           35618.0                   13107.0   \n",
       "673                   Nicobars           15958.0                    3798.0   \n",
       "674  North  AND Middle Andaman           39091.0                   17317.0   \n",
       "675              South Andaman           34901.0                   11692.0   \n",
       "\n",
       "     Households_Rural_Dilapidated  Households_Rural_Toilet_Premise  \\\n",
       "0                         13150.0                          77476.0   \n",
       "1                          6265.0                         133821.0   \n",
       "2                           775.0                          32527.0   \n",
       "3                          1413.0                          39078.0   \n",
       "4                          3171.0                          18103.0   \n",
       "..                            ...                              ...   \n",
       "671                           NaN                              NaN   \n",
       "672                         748.0                          16954.0   \n",
       "673                         191.0                          12910.0   \n",
       "674                        1055.0                          18764.0   \n",
       "675                        1222.0                          22581.0   \n",
       "\n",
       "     Households_Urban  Households_Urban_Livable  Households_Urban_Dilapidated  \\\n",
       "0             23226.0                   11497.0                        1115.0   \n",
       "1             27190.0                    9190.0                         707.0   \n",
       "2             17474.0                    9541.0                         192.0   \n",
       "3              7774.0                    5349.0                          93.0   \n",
       "4             15269.0                    4168.0                         122.0   \n",
       "..                ...                       ...                           ...   \n",
       "671           12110.0                    1913.0                         133.0   \n",
       "672           33715.0                    7080.0                         405.0   \n",
       "673               0.0                       NaN                           NaN   \n",
       "674            1094.0                     612.0                          72.0   \n",
       "675           50631.0                   10835.0                         608.0   \n",
       "\n",
       "     Households_Urban_Toilet_Premise  \n",
       "0                            16305.0  \n",
       "1                            24580.0  \n",
       "2                            16740.0  \n",
       "3                             7580.0  \n",
       "4                            11498.0  \n",
       "..                               ...  \n",
       "671                          11844.0  \n",
       "672                          25084.0  \n",
       "673                              NaN  \n",
       "674                            614.0  \n",
       "675                          44454.0  \n",
       "\n",
       "[676 rows x 9 columns]"
      ]
     },
     "execution_count": 44,
     "metadata": {},
     "output_type": "execute_result"
    }
   ],
   "source": [
    "final_house[\"Households_Rural\"]=new_house[\"Households_Rural\"]\n",
    "final_house[\"Households_Rural_Livable\"]=(new_house[\"Total Number of Livable_x\"]*0.01*new_house[\"Households_Rural\"]).round()\n",
    "final_house[\"Households_Rural_Dilapidated\"]=(new_house[\"Total Number of Dilapidated_x\"]*0.01*new_house[\"Households_Rural\"]).round()\n",
    "final_house[\"Households_Rural_Toilet_Premise\"]=(new_house[\"Latrine_premise_x\"]*0.01*new_house[\"Households_Rural\"]).round()\n",
    "\n",
    "final_house[\"Households_Urban\"]=new_house[\"Households_Urban\"]\n",
    "final_house[\"Households_Urban_Livable\"]=(new_house[\"Total Number of Livable_y\"]*0.01*new_house[\"Households_Urban\"]).round()\n",
    "final_house[\"Households_Urban_Dilapidated\"]=(new_house[\"Total Number of Dilapidated_y\"]*0.01*new_house[\"Households_Urban\"]).round()\n",
    "final_house[\"Households_Urban_Toilet_Premise\"]=(new_house[\"Latrine_premise_y\"]*0.01*new_house[\"Households_Urban\"]).round()\n",
    "final_house"
   ]
  },
  {
   "cell_type": "code",
   "execution_count": 45,
   "id": "eca39f6a",
   "metadata": {},
   "outputs": [
    {
     "name": "stdout",
     "output_type": "stream",
     "text": [
      "Disricts in census data but not in rural housing data:\n",
      "New Delhi |Central |Kolkata |Mumbai Suburban |Mumbai |Hyderabad |Chennai |Yanam |Mahe |\n",
      "Disricts in rural housing data but not in census data:\n"
     ]
    }
   ],
   "source": [
    "print(\"Disricts in census data but not in rural housing data:\")\n",
    "for i in list(census[\"District\"]):\n",
    "    if i not in list(house_rural[\"District\"]):\n",
    "        print(i,end=\" |\")\n",
    "print(\"\\nDisricts in rural housing data but not in census data:\")\n",
    "for i in list(house_rural[\"District\"].unique()):\n",
    "    if i not in list(census[\"District\"]):\n",
    "        print(i,end=\" |\")"
   ]
  },
  {
   "cell_type": "code",
   "execution_count": 46,
   "id": "84c72a21",
   "metadata": {
    "scrolled": true
   },
   "outputs": [
    {
     "name": "stdout",
     "output_type": "stream",
     "text": [
      "Disricts in census data but not in urban housing data:\n",
      "Lahul AND Spiti |Kinnaur |Nicobars |\n",
      "Disricts in urban housing data but not in census data:\n"
     ]
    }
   ],
   "source": [
    "print(\"Disricts in census data but not in urban housing data:\")\n",
    "for i in list(census[\"District\"]):\n",
    "    if i not in list(house_urban[\"District\"]):\n",
    "        print(i,end=\" |\")\n",
    "print(\"\\nDisricts in urban housing data but not in census data:\")\n",
    "for i in list(house_urban[\"District\"].unique()):\n",
    "    if i not in list(census[\"District\"]):\n",
    "        print(i,end=\" |\")"
   ]
  },
  {
   "cell_type": "code",
   "execution_count": 136,
   "id": "469dde52",
   "metadata": {},
   "outputs": [
    {
     "data": {
      "text/plain": [
       "District                            0\n",
       "Households_Rural                    6\n",
       "Households_Rural_Livable           15\n",
       "Households_Rural_Dilapidated       15\n",
       "Households_Rural_Toilet_Premise    15\n",
       "Households_Urban                    3\n",
       "Households_Urban_Livable            6\n",
       "Households_Urban_Dilapidated        6\n",
       "Households_Urban_Toilet_Premise     6\n",
       "dtype: int64"
      ]
     },
     "execution_count": 136,
     "metadata": {},
     "output_type": "execute_result"
    }
   ],
   "source": [
    "final_house.isna().sum()"
   ]
  },
  {
   "cell_type": "markdown",
   "id": "06a7a477",
   "metadata": {},
   "source": [
    "## Report on null values for rural values as we have 3 null values for rural_household + 9 null value for rural districts(i.e 9 districts in census not have rural data in housing ) so total 15 null values\n",
    "## Report on null values for urban values as we have 3 null values for urban_household + 3 null value for urban districts(i.e 3 districts in census not have urban data in housing ) so total 6 null values"
   ]
  },
  {
   "cell_type": "code",
   "execution_count": 47,
   "id": "367df795",
   "metadata": {},
   "outputs": [],
   "source": [
    "for i in list(final_house[\"District\"].unique()):\n",
    "    if i not in list(census[\"District\"]):\n",
    "        print(i,end=\" |\")"
   ]
  },
  {
   "cell_type": "markdown",
   "id": "dc60bb0a",
   "metadata": {},
   "source": [
    "## Now by this we can conclude that all the districts are mapped correctly."
   ]
  },
  {
   "cell_type": "code",
   "execution_count": 48,
   "id": "7e0ce0ba",
   "metadata": {},
   "outputs": [],
   "source": [
    "final_house.to_csv(\"/home/student/clean_data/housing.csv\")#saving file as housing data "
   ]
  },
  {
   "cell_type": "markdown",
   "id": "0fc20943",
   "metadata": {},
   "source": [
    "# 8 for the visuals we need both census data and housing data so lets merge datasets"
   ]
  },
  {
   "cell_type": "code",
   "execution_count": 49,
   "id": "c40bc049",
   "metadata": {},
   "outputs": [
    {
     "name": "stdout",
     "output_type": "stream",
     "text": [
      "<class 'pandas.core.frame.DataFrame'>\n",
      "RangeIndex: 640 entries, 0 to 639\n",
      "Data columns (total 6 columns):\n",
      " #   Column            Non-Null Count  Dtype  \n",
      "---  ------            --------------  -----  \n",
      " 0   State/UT          640 non-null    object \n",
      " 1   District          640 non-null    object \n",
      " 2   Population        639 non-null    float64\n",
      " 3   Households_Rural  634 non-null    float64\n",
      " 4   Households_Urban  637 non-null    float64\n",
      " 5   Households        635 non-null    float64\n",
      "dtypes: float64(4), object(2)\n",
      "memory usage: 30.1+ KB\n"
     ]
    }
   ],
   "source": [
    "pop_cols=[\"State/UT\",\"District\",\"Population\",\"Households\",\"Households_Rural\",\"Households_Urban\"]\n",
    "censos=pd.read_csv(\"/home/student/clean_data/census.csv\",usecols=pop_cols)\n",
    "censos.info()"
   ]
  },
  {
   "cell_type": "code",
   "execution_count": 50,
   "id": "4178a187",
   "metadata": {},
   "outputs": [],
   "source": [
    "pop_house=pd.merge(censos,final_house,on=\"District\",how=\"left\")\n"
   ]
  },
  {
   "cell_type": "markdown",
   "id": "a976da30",
   "metadata": {},
   "source": [
    "## iii Number of households for 100 people"
   ]
  },
  {
   "cell_type": "code",
   "execution_count": 51,
   "id": "1780542c",
   "metadata": {
    "scrolled": true
   },
   "outputs": [
    {
     "name": "stdout",
     "output_type": "stream",
     "text": [
      "6\n"
     ]
    },
    {
     "data": {
      "text/plain": [
       "0      21.0\n",
       "1      25.0\n",
       "2      41.0\n",
       "3      34.0\n",
       "4      31.0\n",
       "       ... \n",
       "719    29.0\n",
       "720    35.0\n",
       "721    43.0\n",
       "722    38.0\n",
       "723    36.0\n",
       "Name: household/100_pepole, Length: 724, dtype: float64"
      ]
     },
     "execution_count": 51,
     "metadata": {},
     "output_type": "execute_result"
    }
   ],
   "source": [
    "pop_house[\"household/100_pepole\"]=((pop_house[\"Households\"]/pop_house[\"Population\"])*100).round()\n",
    "print(pop_house[\"household/100_pepole\"].isna().sum())\n",
    "pop_house[\"household/100_pepole\"]"
   ]
  },
  {
   "cell_type": "code",
   "execution_count": 52,
   "id": "079f9777",
   "metadata": {},
   "outputs": [
    {
     "data": {
      "image/png": "[encoded data removed]",
      "text/plain": [
       "<Figure size 1080x432 with 1 Axes>"
      ]
     },
     "metadata": {
      "needs_background": "light"
     },
     "output_type": "display_data"
    }
   ],
   "source": [
    "gdf=pop_house.groupby(\"State/UT\")[\"household/100_pepole\"].mean().round()\n",
    "plt.figure(figsize=(15,6))\n",
    "gdf.plot(kind=\"bar\")\n",
    "plt.title(\"State/UT Vs Households per 100 people\")\n",
    "plt.ylabel(\"Households for 100 people\");"
   ]
  },
  {
   "cell_type": "code",
   "execution_count": 53,
   "id": "2f5219bd",
   "metadata": {},
   "outputs": [
    {
     "name": "stdout",
     "output_type": "stream",
     "text": [
      "19\n"
     ]
    },
    {
     "data": {
      "text/plain": [
       "0      51.623327\n",
       "1      84.328068\n",
       "2      90.574328\n",
       "3      96.913426\n",
       "4      20.081000\n",
       "         ...    \n",
       "719          NaN\n",
       "720    60.632022\n",
       "721          NaN\n",
       "722    48.221973\n",
       "723    78.374176\n",
       "Name: premises_per, Length: 724, dtype: float64"
      ]
     },
     "execution_count": 53,
     "metadata": {},
     "output_type": "execute_result"
    }
   ],
   "source": [
    "pop_house[\"premises_per\"]=(((pop_house[\"Households_Rural_Toilet_Premise\"]+pop_house[\"Households_Urban_Toilet_Premise\"])/pop_house[\"Households\"])*100)\n",
    "print(pop_house[\"premises_per\"].isna().sum())\n",
    "pop_house[\"premises_per\"]"
   ]
  },
  {
   "cell_type": "markdown",
   "id": "3adfbdf0",
   "metadata": {},
   "source": [
    "## ii Percentage of households that have toilet(s) in premise to the total number of households."
   ]
  },
  {
   "cell_type": "code",
   "execution_count": 54,
   "id": "8e5c0d2e",
   "metadata": {},
   "outputs": [
    {
     "data": {
      "image/png": "[encoded data removed]",
      "text/plain": [
       "<Figure size 1080x432 with 1 Axes>"
      ]
     },
     "metadata": {
      "needs_background": "light"
     },
     "output_type": "display_data"
    }
   ],
   "source": [
    "gdf=pop_house.groupby(\"State/UT\")[\"premises_per\"].mean()\n",
    "plt.figure(figsize=(15,6))\n",
    "gdf.plot(kind=\"bar\")\n",
    "plt.ylabel(\"percentage of household having Toilets in Premises\");"
   ]
  },
  {
   "cell_type": "markdown",
   "id": "8e7a9df6",
   "metadata": {},
   "source": [
    "## iii Generally we need rural and urban population in order to calculate Urban to rural population ratio but we do not have that data ."
   ]
  },
  {
   "cell_type": "markdown",
   "id": "040f737d",
   "metadata": {},
   "source": [
    "## Data Insufficient "
   ]
  },
  {
   "cell_type": "markdown",
   "id": "195ba3a5",
   "metadata": {},
   "source": [
    "# Problem Statement 9: (Inconsistency in different datasets)"
   ]
  },
  {
   "cell_type": "code",
   "execution_count": 55,
   "id": "51098667",
   "metadata": {},
   "outputs": [],
   "source": [
    "## Difference between the Housing data and Census data"
   ]
  },
  {
   "cell_type": "code",
   "execution_count": 56,
   "id": "22a00bfb",
   "metadata": {},
   "outputs": [
    {
     "data": {
      "text/html": [
       "<div>\n",
       "<style scoped>\n",
       "    .dataframe tbody tr th:only-of-type {\n",
       "        vertical-align: middle;\n",
       "    }\n",
       "\n",
       "    .dataframe tbody tr th {\n",
       "        vertical-align: top;\n",
       "    }\n",
       "\n",
       "    .dataframe thead th {\n",
       "        text-align: right;\n",
       "    }\n",
       "</style>\n",
       "<table border=\"1\" class=\"dataframe\">\n",
       "  <thead>\n",
       "    <tr style=\"text-align: right;\">\n",
       "      <th></th>\n",
       "      <th>State/UT</th>\n",
       "      <th>District</th>\n",
       "      <th>Population</th>\n",
       "      <th>Households_Rural</th>\n",
       "      <th>Households_Urban</th>\n",
       "      <th>Households</th>\n",
       "    </tr>\n",
       "  </thead>\n",
       "  <tbody>\n",
       "    <tr>\n",
       "      <th>0</th>\n",
       "      <td>Jammu and Kashmir</td>\n",
       "      <td>Kupwara</td>\n",
       "      <td>870354.0</td>\n",
       "      <td>158438.0</td>\n",
       "      <td>23226.0</td>\n",
       "      <td>181664.0</td>\n",
       "    </tr>\n",
       "    <tr>\n",
       "      <th>1</th>\n",
       "      <td>Jammu and Kashmir</td>\n",
       "      <td>Badgam</td>\n",
       "      <td>753745.0</td>\n",
       "      <td>160649.0</td>\n",
       "      <td>27190.0</td>\n",
       "      <td>187839.0</td>\n",
       "    </tr>\n",
       "    <tr>\n",
       "      <th>2</th>\n",
       "      <td>Jammu and Kashmir</td>\n",
       "      <td>Leh(Ladakh)</td>\n",
       "      <td>133487.0</td>\n",
       "      <td>36920.0</td>\n",
       "      <td>17474.0</td>\n",
       "      <td>54394.0</td>\n",
       "    </tr>\n",
       "    <tr>\n",
       "      <th>3</th>\n",
       "      <td>Laddakh</td>\n",
       "      <td>Kargil</td>\n",
       "      <td>140802.0</td>\n",
       "      <td>40370.0</td>\n",
       "      <td>7774.0</td>\n",
       "      <td>48144.0</td>\n",
       "    </tr>\n",
       "    <tr>\n",
       "      <th>4</th>\n",
       "      <td>Jammu and Kashmir</td>\n",
       "      <td>Punch</td>\n",
       "      <td>476835.0</td>\n",
       "      <td>132139.0</td>\n",
       "      <td>15269.0</td>\n",
       "      <td>147408.0</td>\n",
       "    </tr>\n",
       "  </tbody>\n",
       "</table>\n",
       "</div>"
      ],
      "text/plain": [
       "            State/UT     District  Population  Households_Rural  \\\n",
       "0  Jammu and Kashmir      Kupwara    870354.0          158438.0   \n",
       "1  Jammu and Kashmir       Badgam    753745.0          160649.0   \n",
       "2  Jammu and Kashmir  Leh(Ladakh)    133487.0           36920.0   \n",
       "3            Laddakh       Kargil    140802.0           40370.0   \n",
       "4  Jammu and Kashmir        Punch    476835.0          132139.0   \n",
       "\n",
       "   Households_Urban  Households  \n",
       "0           23226.0    181664.0  \n",
       "1           27190.0    187839.0  \n",
       "2           17474.0     54394.0  \n",
       "3            7774.0     48144.0  \n",
       "4           15269.0    147408.0  "
      ]
     },
     "execution_count": 56,
     "metadata": {},
     "output_type": "execute_result"
    }
   ],
   "source": [
    "censos.head()"
   ]
  },
  {
   "cell_type": "code",
   "execution_count": 57,
   "id": "989a7645",
   "metadata": {
    "scrolled": true
   },
   "outputs": [
    {
     "data": {
      "text/html": [
       "<div>\n",
       "<style scoped>\n",
       "    .dataframe tbody tr th:only-of-type {\n",
       "        vertical-align: middle;\n",
       "    }\n",
       "\n",
       "    .dataframe tbody tr th {\n",
       "        vertical-align: top;\n",
       "    }\n",
       "\n",
       "    .dataframe thead th {\n",
       "        text-align: right;\n",
       "    }\n",
       "</style>\n",
       "<table border=\"1\" class=\"dataframe\">\n",
       "  <thead>\n",
       "    <tr style=\"text-align: right;\">\n",
       "      <th></th>\n",
       "      <th>District</th>\n",
       "      <th>Households_Rural</th>\n",
       "      <th>Households_Rural_Livable</th>\n",
       "      <th>Households_Rural_Dilapidated</th>\n",
       "      <th>Households_Rural_Toilet_Premise</th>\n",
       "      <th>Households_Urban</th>\n",
       "      <th>Households_Urban_Livable</th>\n",
       "      <th>Households_Urban_Dilapidated</th>\n",
       "      <th>Households_Urban_Toilet_Premise</th>\n",
       "    </tr>\n",
       "  </thead>\n",
       "  <tbody>\n",
       "    <tr>\n",
       "      <th>0</th>\n",
       "      <td>Kupwara</td>\n",
       "      <td>158438.0</td>\n",
       "      <td>92052.0</td>\n",
       "      <td>13150.0</td>\n",
       "      <td>77476.0</td>\n",
       "      <td>23226.0</td>\n",
       "      <td>11497.0</td>\n",
       "      <td>1115.0</td>\n",
       "      <td>16305.0</td>\n",
       "    </tr>\n",
       "    <tr>\n",
       "      <th>1</th>\n",
       "      <td>Badgam</td>\n",
       "      <td>160649.0</td>\n",
       "      <td>74380.0</td>\n",
       "      <td>6265.0</td>\n",
       "      <td>133821.0</td>\n",
       "      <td>27190.0</td>\n",
       "      <td>9190.0</td>\n",
       "      <td>707.0</td>\n",
       "      <td>24580.0</td>\n",
       "    </tr>\n",
       "    <tr>\n",
       "      <th>2</th>\n",
       "      <td>Leh(Ladakh)</td>\n",
       "      <td>36920.0</td>\n",
       "      <td>19014.0</td>\n",
       "      <td>775.0</td>\n",
       "      <td>32527.0</td>\n",
       "      <td>17474.0</td>\n",
       "      <td>9541.0</td>\n",
       "      <td>192.0</td>\n",
       "      <td>16740.0</td>\n",
       "    </tr>\n",
       "    <tr>\n",
       "      <th>3</th>\n",
       "      <td>Kargil</td>\n",
       "      <td>40370.0</td>\n",
       "      <td>29591.0</td>\n",
       "      <td>1413.0</td>\n",
       "      <td>39078.0</td>\n",
       "      <td>7774.0</td>\n",
       "      <td>5349.0</td>\n",
       "      <td>93.0</td>\n",
       "      <td>7580.0</td>\n",
       "    </tr>\n",
       "    <tr>\n",
       "      <th>4</th>\n",
       "      <td>Punch</td>\n",
       "      <td>132139.0</td>\n",
       "      <td>78623.0</td>\n",
       "      <td>3171.0</td>\n",
       "      <td>18103.0</td>\n",
       "      <td>15269.0</td>\n",
       "      <td>4168.0</td>\n",
       "      <td>122.0</td>\n",
       "      <td>11498.0</td>\n",
       "    </tr>\n",
       "  </tbody>\n",
       "</table>\n",
       "</div>"
      ],
      "text/plain": [
       "      District  Households_Rural  Households_Rural_Livable  \\\n",
       "0      Kupwara          158438.0                   92052.0   \n",
       "1       Badgam          160649.0                   74380.0   \n",
       "2  Leh(Ladakh)           36920.0                   19014.0   \n",
       "3       Kargil           40370.0                   29591.0   \n",
       "4        Punch          132139.0                   78623.0   \n",
       "\n",
       "   Households_Rural_Dilapidated  Households_Rural_Toilet_Premise  \\\n",
       "0                       13150.0                          77476.0   \n",
       "1                        6265.0                         133821.0   \n",
       "2                         775.0                          32527.0   \n",
       "3                        1413.0                          39078.0   \n",
       "4                        3171.0                          18103.0   \n",
       "\n",
       "   Households_Urban  Households_Urban_Livable  Households_Urban_Dilapidated  \\\n",
       "0           23226.0                   11497.0                        1115.0   \n",
       "1           27190.0                    9190.0                         707.0   \n",
       "2           17474.0                    9541.0                         192.0   \n",
       "3            7774.0                    5349.0                          93.0   \n",
       "4           15269.0                    4168.0                         122.0   \n",
       "\n",
       "   Households_Urban_Toilet_Premise  \n",
       "0                          16305.0  \n",
       "1                          24580.0  \n",
       "2                          16740.0  \n",
       "3                           7580.0  \n",
       "4                          11498.0  "
      ]
     },
     "execution_count": 57,
     "metadata": {},
     "output_type": "execute_result"
    }
   ],
   "source": [
    "final_house.head()"
   ]
  },
  {
   "cell_type": "code",
   "execution_count": 58,
   "id": "55144aa3",
   "metadata": {},
   "outputs": [],
   "source": [
    "task9_house=final_house.groupby('District')[['Households_Rural','Households_Urban']].sum()\n",
    "task9_census=censos.groupby('District')[['Households_Rural','Households_Urban']].sum()\n"
   ]
  },
  {
   "cell_type": "code",
   "execution_count": 59,
   "id": "14822740",
   "metadata": {},
   "outputs": [],
   "source": [
    "task9_house['diff_rural']=((task9_house['Households_Rural']-task9_census['Households_Rural'])/task9_census['Households_Rural'])*100\n",
    "task9_house['diff_urban']=((task9_house['Households_Urban']-task9_census['Households_Urban'])/task9_census['Households_Urban'])*100"
   ]
  },
  {
   "cell_type": "code",
   "execution_count": 60,
   "id": "6a724239",
   "metadata": {},
   "outputs": [
    {
     "data": {
      "text/html": [
       "<div>\n",
       "<style scoped>\n",
       "    .dataframe tbody tr th:only-of-type {\n",
       "        vertical-align: middle;\n",
       "    }\n",
       "\n",
       "    .dataframe tbody tr th {\n",
       "        vertical-align: top;\n",
       "    }\n",
       "\n",
       "    .dataframe thead th {\n",
       "        text-align: right;\n",
       "    }\n",
       "</style>\n",
       "<table border=\"1\" class=\"dataframe\">\n",
       "  <thead>\n",
       "    <tr style=\"text-align: right;\">\n",
       "      <th></th>\n",
       "      <th>Households_Rural</th>\n",
       "      <th>Households_Urban</th>\n",
       "      <th>diff_rural</th>\n",
       "      <th>diff_urban</th>\n",
       "    </tr>\n",
       "    <tr>\n",
       "      <th>District</th>\n",
       "      <th></th>\n",
       "      <th></th>\n",
       "      <th></th>\n",
       "      <th></th>\n",
       "    </tr>\n",
       "  </thead>\n",
       "  <tbody>\n",
       "    <tr>\n",
       "      <th>Aurangabad</th>\n",
       "      <td>3920320.0</td>\n",
       "      <td>1905396.0</td>\n",
       "      <td>300.0</td>\n",
       "      <td>300.0</td>\n",
       "    </tr>\n",
       "    <tr>\n",
       "      <th>Bijapur</th>\n",
       "      <td>1787592.0</td>\n",
       "      <td>555932.0</td>\n",
       "      <td>300.0</td>\n",
       "      <td>300.0</td>\n",
       "    </tr>\n",
       "    <tr>\n",
       "      <th>Bilaspur</th>\n",
       "      <td>2808360.0</td>\n",
       "      <td>800644.0</td>\n",
       "      <td>300.0</td>\n",
       "      <td>300.0</td>\n",
       "    </tr>\n",
       "    <tr>\n",
       "      <th>Hamirpur</th>\n",
       "      <td>1808788.0</td>\n",
       "      <td>282128.0</td>\n",
       "      <td>300.0</td>\n",
       "      <td>300.0</td>\n",
       "    </tr>\n",
       "    <tr>\n",
       "      <th>Pratapgarh</th>\n",
       "      <td>3683592.0</td>\n",
       "      <td>263880.0</td>\n",
       "      <td>300.0</td>\n",
       "      <td>300.0</td>\n",
       "    </tr>\n",
       "    <tr>\n",
       "      <th>Raigarh</th>\n",
       "      <td>3744584.0</td>\n",
       "      <td>1775192.0</td>\n",
       "      <td>300.0</td>\n",
       "      <td>300.0</td>\n",
       "    </tr>\n",
       "  </tbody>\n",
       "</table>\n",
       "</div>"
      ],
      "text/plain": [
       "            Households_Rural  Households_Urban  diff_rural  diff_urban\n",
       "District                                                              \n",
       "Aurangabad         3920320.0         1905396.0       300.0       300.0\n",
       "Bijapur            1787592.0          555932.0       300.0       300.0\n",
       "Bilaspur           2808360.0          800644.0       300.0       300.0\n",
       "Hamirpur           1808788.0          282128.0       300.0       300.0\n",
       "Pratapgarh         3683592.0          263880.0       300.0       300.0\n",
       "Raigarh            3744584.0         1775192.0       300.0       300.0"
      ]
     },
     "execution_count": 60,
     "metadata": {},
     "output_type": "execute_result"
    }
   ],
   "source": [
    "task9_house[task9_house['diff_rural']>10]"
   ]
  },
  {
   "cell_type": "code",
   "execution_count": 61,
   "id": "34aecae9",
   "metadata": {},
   "outputs": [
    {
     "data": {
      "text/html": [
       "<div>\n",
       "<style scoped>\n",
       "    .dataframe tbody tr th:only-of-type {\n",
       "        vertical-align: middle;\n",
       "    }\n",
       "\n",
       "    .dataframe tbody tr th {\n",
       "        vertical-align: top;\n",
       "    }\n",
       "\n",
       "    .dataframe thead th {\n",
       "        text-align: right;\n",
       "    }\n",
       "</style>\n",
       "<table border=\"1\" class=\"dataframe\">\n",
       "  <thead>\n",
       "    <tr style=\"text-align: right;\">\n",
       "      <th></th>\n",
       "      <th>Households_Rural</th>\n",
       "      <th>Households_Urban</th>\n",
       "      <th>diff_rural</th>\n",
       "      <th>diff_urban</th>\n",
       "    </tr>\n",
       "    <tr>\n",
       "      <th>District</th>\n",
       "      <th></th>\n",
       "      <th></th>\n",
       "      <th></th>\n",
       "      <th></th>\n",
       "    </tr>\n",
       "  </thead>\n",
       "  <tbody>\n",
       "    <tr>\n",
       "      <th>Aurangabad</th>\n",
       "      <td>3920320.0</td>\n",
       "      <td>1905396.0</td>\n",
       "      <td>300.0</td>\n",
       "      <td>300.0</td>\n",
       "    </tr>\n",
       "    <tr>\n",
       "      <th>Bijapur</th>\n",
       "      <td>1787592.0</td>\n",
       "      <td>555932.0</td>\n",
       "      <td>300.0</td>\n",
       "      <td>300.0</td>\n",
       "    </tr>\n",
       "    <tr>\n",
       "      <th>Bilaspur</th>\n",
       "      <td>2808360.0</td>\n",
       "      <td>800644.0</td>\n",
       "      <td>300.0</td>\n",
       "      <td>300.0</td>\n",
       "    </tr>\n",
       "    <tr>\n",
       "      <th>Hamirpur</th>\n",
       "      <td>1808788.0</td>\n",
       "      <td>282128.0</td>\n",
       "      <td>300.0</td>\n",
       "      <td>300.0</td>\n",
       "    </tr>\n",
       "    <tr>\n",
       "      <th>Pratapgarh</th>\n",
       "      <td>3683592.0</td>\n",
       "      <td>263880.0</td>\n",
       "      <td>300.0</td>\n",
       "      <td>300.0</td>\n",
       "    </tr>\n",
       "    <tr>\n",
       "      <th>Raigarh</th>\n",
       "      <td>3744584.0</td>\n",
       "      <td>1775192.0</td>\n",
       "      <td>300.0</td>\n",
       "      <td>300.0</td>\n",
       "    </tr>\n",
       "  </tbody>\n",
       "</table>\n",
       "</div>"
      ],
      "text/plain": [
       "            Households_Rural  Households_Urban  diff_rural  diff_urban\n",
       "District                                                              \n",
       "Aurangabad         3920320.0         1905396.0       300.0       300.0\n",
       "Bijapur            1787592.0          555932.0       300.0       300.0\n",
       "Bilaspur           2808360.0          800644.0       300.0       300.0\n",
       "Hamirpur           1808788.0          282128.0       300.0       300.0\n",
       "Pratapgarh         3683592.0          263880.0       300.0       300.0\n",
       "Raigarh            3744584.0         1775192.0       300.0       300.0"
      ]
     },
     "execution_count": 61,
     "metadata": {},
     "output_type": "execute_result"
    }
   ],
   "source": [
    "task9_house[task9_house['diff_urban']>10]"
   ]
  },
  {
   "cell_type": "markdown",
   "id": "a4e9f5bd",
   "metadata": {},
   "source": [
    "## We can see that due to the redendency in data we are getting variation values more than ten percent in districts Aurangabad, Bijapur ,Bilaspur ,Hamirpur ,Pratapgarh and Raigarh."
   ]
  },
  {
   "cell_type": "markdown",
   "id": "07a59eb2",
   "metadata": {},
   "source": [
    "# Problem Statement 10: (Fix the header)"
   ]
  },
  {
   "cell_type": "code",
   "execution_count": 62,
   "id": "6e6c434e",
   "metadata": {},
   "outputs": [],
   "source": [
    "hosp=pd.read_csv(r\"/home/student/unclean/hospitals.csv\")"
   ]
  },
  {
   "cell_type": "code",
   "execution_count": 63,
   "id": "fa854834",
   "metadata": {
    "scrolled": false
   },
   "outputs": [
    {
     "data": {
      "text/html": [
       "<div>\n",
       "<style scoped>\n",
       "    .dataframe tbody tr th:only-of-type {\n",
       "        vertical-align: middle;\n",
       "    }\n",
       "\n",
       "    .dataframe tbody tr th {\n",
       "        vertical-align: top;\n",
       "    }\n",
       "\n",
       "    .dataframe thead th {\n",
       "        text-align: right;\n",
       "    }\n",
       "</style>\n",
       "<table border=\"1\" class=\"dataframe\">\n",
       "  <thead>\n",
       "    <tr style=\"text-align: right;\">\n",
       "      <th></th>\n",
       "      <th>Unnamed: 0</th>\n",
       "      <th>PHC</th>\n",
       "      <th>CHC</th>\n",
       "      <th>SDH</th>\n",
       "      <th>DH</th>\n",
       "      <th>Hospitals</th>\n",
       "      <th>HospitalBeds</th>\n",
       "    </tr>\n",
       "  </thead>\n",
       "  <tbody>\n",
       "    <tr>\n",
       "      <th>0</th>\n",
       "      <td>Andaman &amp; Nicobar Islands</td>\n",
       "      <td>27</td>\n",
       "      <td>4</td>\n",
       "      <td>NaN</td>\n",
       "      <td>3</td>\n",
       "      <td>34</td>\n",
       "      <td>1246</td>\n",
       "    </tr>\n",
       "    <tr>\n",
       "      <th>1</th>\n",
       "      <td>Andhra Pradesh</td>\n",
       "      <td>1417</td>\n",
       "      <td>198</td>\n",
       "      <td>31</td>\n",
       "      <td>20</td>\n",
       "      <td>1666</td>\n",
       "      <td>60799</td>\n",
       "    </tr>\n",
       "    <tr>\n",
       "      <th>2</th>\n",
       "      <td>Arunachal Pradesh</td>\n",
       "      <td>122</td>\n",
       "      <td>62</td>\n",
       "      <td>NaN</td>\n",
       "      <td>15</td>\n",
       "      <td>199</td>\n",
       "      <td>2320</td>\n",
       "    </tr>\n",
       "    <tr>\n",
       "      <th>3</th>\n",
       "      <td>Assam</td>\n",
       "      <td>1007</td>\n",
       "      <td>166</td>\n",
       "      <td>14</td>\n",
       "      <td>33</td>\n",
       "      <td>1220</td>\n",
       "      <td>19115</td>\n",
       "    </tr>\n",
       "    <tr>\n",
       "      <th>4</th>\n",
       "      <td>Bihar</td>\n",
       "      <td>2007</td>\n",
       "      <td>63</td>\n",
       "      <td>33</td>\n",
       "      <td>43</td>\n",
       "      <td>2146</td>\n",
       "      <td>17796</td>\n",
       "    </tr>\n",
       "  </tbody>\n",
       "</table>\n",
       "</div>"
      ],
      "text/plain": [
       "                  Unnamed: 0   PHC  CHC  SDH  DH Hospitals HospitalBeds\n",
       "0  Andaman & Nicobar Islands    27    4  NaN   3        34         1246\n",
       "1             Andhra Pradesh  1417  198   31  20      1666        60799\n",
       "2          Arunachal Pradesh   122   62  NaN  15       199         2320\n",
       "3                      Assam  1007  166   14  33      1220        19115\n",
       "4                      Bihar  2007   63   33  43      2146        17796"
      ]
     },
     "execution_count": 63,
     "metadata": {},
     "output_type": "execute_result"
    }
   ],
   "source": [
    "hosp.head()"
   ]
  },
  {
   "cell_type": "code",
   "execution_count": 64,
   "id": "46949753",
   "metadata": {},
   "outputs": [
    {
     "data": {
      "text/html": [
       "<div>\n",
       "<style scoped>\n",
       "    .dataframe tbody tr th:only-of-type {\n",
       "        vertical-align: middle;\n",
       "    }\n",
       "\n",
       "    .dataframe tbody tr th {\n",
       "        vertical-align: top;\n",
       "    }\n",
       "\n",
       "    .dataframe thead th {\n",
       "        text-align: right;\n",
       "    }\n",
       "</style>\n",
       "<table border=\"1\" class=\"dataframe\">\n",
       "  <thead>\n",
       "    <tr style=\"text-align: right;\">\n",
       "      <th></th>\n",
       "      <th>Acronyms</th>\n",
       "    </tr>\n",
       "  </thead>\n",
       "  <tbody>\n",
       "    <tr>\n",
       "      <th>0</th>\n",
       "      <td>Number of Primary Health Centers(PHCs),</td>\n",
       "    </tr>\n",
       "    <tr>\n",
       "      <th>1</th>\n",
       "      <td>Community Health Centers(CHCs),</td>\n",
       "    </tr>\n",
       "    <tr>\n",
       "      <th>2</th>\n",
       "      <td>Sub-District/Divisional Hospitals(SDHs)</td>\n",
       "    </tr>\n",
       "    <tr>\n",
       "      <th>3</th>\n",
       "      <td>District Hospitals(DHs)</td>\n",
       "    </tr>\n",
       "  </tbody>\n",
       "</table>\n",
       "</div>"
      ],
      "text/plain": [
       "                                   Acronyms\n",
       "0  Number of Primary Health Centers(PHCs), \n",
       "1          Community Health Centers(CHCs), \n",
       "2   Sub-District/Divisional Hospitals(SDHs)\n",
       "3                  District Hospitals(DHs) "
      ]
     },
     "execution_count": 64,
     "metadata": {},
     "output_type": "execute_result"
    }
   ],
   "source": [
    "metadata=pd.read_csv(r\"/home/student/unclean/metadata.csv\")\n",
    "metadata"
   ]
  },
  {
   "cell_type": "code",
   "execution_count": 65,
   "id": "d3c38c95",
   "metadata": {
    "scrolled": true
   },
   "outputs": [
    {
     "data": {
      "text/html": [
       "<div>\n",
       "<style scoped>\n",
       "    .dataframe tbody tr th:only-of-type {\n",
       "        vertical-align: middle;\n",
       "    }\n",
       "\n",
       "    .dataframe tbody tr th {\n",
       "        vertical-align: top;\n",
       "    }\n",
       "\n",
       "    .dataframe thead th {\n",
       "        text-align: right;\n",
       "    }\n",
       "</style>\n",
       "<table border=\"1\" class=\"dataframe\">\n",
       "  <thead>\n",
       "    <tr style=\"text-align: right;\">\n",
       "      <th></th>\n",
       "      <th>State/UT</th>\n",
       "      <th>Number_of_Primary_Health_Centers</th>\n",
       "      <th>Community_Health_Centers</th>\n",
       "      <th>Sub-District/Divisional_Hospitals</th>\n",
       "      <th>District_Hospitals</th>\n",
       "      <th>Hospitals</th>\n",
       "      <th>HospitalBeds</th>\n",
       "    </tr>\n",
       "  </thead>\n",
       "  <tbody>\n",
       "    <tr>\n",
       "      <th>0</th>\n",
       "      <td>Andaman &amp; Nicobar Islands</td>\n",
       "      <td>27</td>\n",
       "      <td>4</td>\n",
       "      <td>NaN</td>\n",
       "      <td>3</td>\n",
       "      <td>34</td>\n",
       "      <td>1246</td>\n",
       "    </tr>\n",
       "    <tr>\n",
       "      <th>1</th>\n",
       "      <td>Andhra Pradesh</td>\n",
       "      <td>1417</td>\n",
       "      <td>198</td>\n",
       "      <td>31</td>\n",
       "      <td>20</td>\n",
       "      <td>1666</td>\n",
       "      <td>60799</td>\n",
       "    </tr>\n",
       "    <tr>\n",
       "      <th>2</th>\n",
       "      <td>Arunachal Pradesh</td>\n",
       "      <td>122</td>\n",
       "      <td>62</td>\n",
       "      <td>NaN</td>\n",
       "      <td>15</td>\n",
       "      <td>199</td>\n",
       "      <td>2320</td>\n",
       "    </tr>\n",
       "    <tr>\n",
       "      <th>3</th>\n",
       "      <td>Assam</td>\n",
       "      <td>1007</td>\n",
       "      <td>166</td>\n",
       "      <td>14</td>\n",
       "      <td>33</td>\n",
       "      <td>1220</td>\n",
       "      <td>19115</td>\n",
       "    </tr>\n",
       "    <tr>\n",
       "      <th>4</th>\n",
       "      <td>Bihar</td>\n",
       "      <td>2007</td>\n",
       "      <td>63</td>\n",
       "      <td>33</td>\n",
       "      <td>43</td>\n",
       "      <td>2146</td>\n",
       "      <td>17796</td>\n",
       "    </tr>\n",
       "  </tbody>\n",
       "</table>\n",
       "</div>"
      ],
      "text/plain": [
       "                    State/UT Number_of_Primary_Health_Centers  \\\n",
       "0  Andaman & Nicobar Islands                               27   \n",
       "1             Andhra Pradesh                             1417   \n",
       "2          Arunachal Pradesh                              122   \n",
       "3                      Assam                             1007   \n",
       "4                      Bihar                             2007   \n",
       "\n",
       "  Community_Health_Centers Sub-District/Divisional_Hospitals  \\\n",
       "0                        4                               NaN   \n",
       "1                      198                                31   \n",
       "2                       62                               NaN   \n",
       "3                      166                                14   \n",
       "4                       63                                33   \n",
       "\n",
       "  District_Hospitals Hospitals HospitalBeds  \n",
       "0                  3        34         1246  \n",
       "1                 20      1666        60799  \n",
       "2                 15       199         2320  \n",
       "3                 33      1220        19115  \n",
       "4                 43      2146        17796  "
      ]
     },
     "execution_count": 65,
     "metadata": {},
     "output_type": "execute_result"
    }
   ],
   "source": [
    "headers=[\"State/UT\",\"Number_of_Primary_Health_Centers\",\"Community_Health_Centers\",\"Sub-District/Divisional_Hospitals\",\"District_Hospitals\",\"Hospitals\",\"HospitalBeds\"]\n",
    "hosp.columns=headers\n",
    "hosp.head()"
   ]
  },
  {
   "cell_type": "markdown",
   "id": "df7da1d4",
   "metadata": {},
   "source": [
    "# Problem Statement 11: (Create a function to alter the data to create uniformity)"
   ]
  },
  {
   "cell_type": "code",
   "execution_count": 66,
   "id": "ff92effd",
   "metadata": {},
   "outputs": [
    {
     "data": {
      "text/plain": [
       "array(['Andaman & Nicobar Islands', 'Andhra Pradesh', 'Arunachal Pradesh',\n",
       "       'Assam', 'Bihar', 'Chandigarh', 'Chhattisgarh',\n",
       "       'Dadra & Nagar Haveli', 'Daman & Diu', 'Delhi', 'Goa', 'Gujarat',\n",
       "       'Haryana', 'Himachal Pradesh', 'Jammu & Kashmir', 'Jharkhand',\n",
       "       'Karnataka', 'Kerala', 'Lakshadweep', 'Madhya Pradesh',\n",
       "       'Maharashtra', 'Manipur', 'Meghalaya', 'Mizoram', 'Nagaland',\n",
       "       'Odisha', 'Puducherry', 'Punjab', 'Rajasthan', 'Sikkim',\n",
       "       'Tamil Nadu', 'Telangana', 'Tripura', 'Uttar Pradesh',\n",
       "       'Uttarakhand', 'West Bengal', 'All India'], dtype=object)"
      ]
     },
     "execution_count": 66,
     "metadata": {},
     "output_type": "execute_result"
    }
   ],
   "source": [
    "hosp[\"State/UT\"].unique()"
   ]
  },
  {
   "cell_type": "code",
   "execution_count": 67,
   "id": "2281498c",
   "metadata": {
    "scrolled": true
   },
   "outputs": [
    {
     "name": "stdout",
     "output_type": "stream",
     "text": [
      "['Andaman and Nicobar Islands', 'Andhra Pradesh', 'Arunachal Pradesh', 'Assam', 'Bihar', 'Chandigarh', 'Chhattisgarh', 'Dadra and Nagar Haveli', 'Daman and Diu', 'Goa', 'Gujarat', 'Haryana', 'Himachal Pradesh', 'Jammu and Kashmir', 'Jharkhand', 'Karnataka', 'Kerala', 'Laddakh', 'Lakshadweep', 'Madhya Pradesh', 'Maharashtra', 'Manipur', 'Meghalaya', 'Mizoram', 'Nagaland', 'Nct Of Delhi', 'Orissa', 'Pondicherry', 'Punjab', 'Rajasthan', 'Sikkim', 'Tamil Nadu', 'Telangana', 'Tripura', 'Uttar Pradesh', 'Uttarakhand', 'West Bengal']\n"
     ]
    }
   ],
   "source": [
    "print(sorted(censos[\"State/UT\"].unique()))"
   ]
  },
  {
   "cell_type": "markdown",
   "id": "93806055",
   "metadata": {},
   "source": [
    "### We can see that there are \"&\" symbol for and so need to change\n",
    "### \"Pondicherry\" for \"Puducherry\" should be replaced\n",
    "### \"Nct Of Delhi\" for \"Delhi\"\n",
    "### \"Orissa\" for \"Odisha\"\n"
   ]
  },
  {
   "cell_type": "code",
   "execution_count": 68,
   "id": "cad1cedb",
   "metadata": {},
   "outputs": [],
   "source": [
    "def stateset(word):\n",
    "    if(\"*\" in word):\n",
    "        word=word.replace(\"*\",\"\") ## for task 14 case\n",
    "    if(word==\"Puducherry\"):\n",
    "        return \"Pondicherry\"\n",
    "    if(word==\"Delhi\"):\n",
    "        return \"Nct Of Delhi\"\n",
    "    if(word==\"Odisha\"):\n",
    "        return \"Orissa\"\n",
    "    \n",
    "    if(\"&\" in word):\n",
    "        return word.replace(\"&\",\"and\")\n",
    "    return word"
   ]
  },
  {
   "cell_type": "code",
   "execution_count": 69,
   "id": "e54428f9",
   "metadata": {},
   "outputs": [],
   "source": [
    "hosp[\"State/UT\"]=hosp[\"State/UT\"].apply(stateset)"
   ]
  },
  {
   "cell_type": "code",
   "execution_count": 70,
   "id": "71d3cd96",
   "metadata": {},
   "outputs": [
    {
     "data": {
      "text/plain": [
       "array(['Andaman and Nicobar Islands', 'Andhra Pradesh',\n",
       "       'Arunachal Pradesh', 'Assam', 'Bihar', 'Chandigarh',\n",
       "       'Chhattisgarh', 'Dadra and Nagar Haveli', 'Daman and Diu',\n",
       "       'Nct Of Delhi', 'Goa', 'Gujarat', 'Haryana', 'Himachal Pradesh',\n",
       "       'Jammu and Kashmir', 'Jharkhand', 'Karnataka', 'Kerala',\n",
       "       'Lakshadweep', 'Madhya Pradesh', 'Maharashtra', 'Manipur',\n",
       "       'Meghalaya', 'Mizoram', 'Nagaland', 'Orissa', 'Pondicherry',\n",
       "       'Punjab', 'Rajasthan', 'Sikkim', 'Tamil Nadu', 'Telangana',\n",
       "       'Tripura', 'Uttar Pradesh', 'Uttarakhand', 'West Bengal',\n",
       "       'All India'], dtype=object)"
      ]
     },
     "execution_count": 70,
     "metadata": {},
     "output_type": "execute_result"
    }
   ],
   "source": [
    "hosp[\"State/UT\"].unique()"
   ]
  },
  {
   "cell_type": "code",
   "execution_count": 71,
   "id": "0ce74108",
   "metadata": {},
   "outputs": [],
   "source": [
    "hosp.to_csv(\"/home/student/clean_data/all_hospitals.csv\")"
   ]
  },
  {
   "cell_type": "code",
   "execution_count": 72,
   "id": "8dc3da13",
   "metadata": {},
   "outputs": [],
   "source": [
    "censosstate=censos.groupby(\"State/UT\")[[\"Population\"]].sum()"
   ]
  },
  {
   "cell_type": "code",
   "execution_count": 73,
   "id": "19c45ccb",
   "metadata": {},
   "outputs": [],
   "source": [
    "censosstate.reset_index(inplace=True)"
   ]
  },
  {
   "cell_type": "code",
   "execution_count": 74,
   "id": "27ebe403",
   "metadata": {},
   "outputs": [],
   "source": [
    "hosp_pop=pd.merge(hosp,censosstate,on=\"State/UT\",how=\"left\")"
   ]
  },
  {
   "cell_type": "code",
   "execution_count": 75,
   "id": "c4effe06",
   "metadata": {},
   "outputs": [
    {
     "data": {
      "text/html": [
       "<div>\n",
       "<style scoped>\n",
       "    .dataframe tbody tr th:only-of-type {\n",
       "        vertical-align: middle;\n",
       "    }\n",
       "\n",
       "    .dataframe tbody tr th {\n",
       "        vertical-align: top;\n",
       "    }\n",
       "\n",
       "    .dataframe thead th {\n",
       "        text-align: right;\n",
       "    }\n",
       "</style>\n",
       "<table border=\"1\" class=\"dataframe\">\n",
       "  <thead>\n",
       "    <tr style=\"text-align: right;\">\n",
       "      <th></th>\n",
       "      <th>State/UT</th>\n",
       "      <th>Number_of_Primary_Health_Centers</th>\n",
       "      <th>Community_Health_Centers</th>\n",
       "      <th>Sub-District/Divisional_Hospitals</th>\n",
       "      <th>District_Hospitals</th>\n",
       "      <th>Hospitals</th>\n",
       "      <th>HospitalBeds</th>\n",
       "      <th>Population</th>\n",
       "    </tr>\n",
       "  </thead>\n",
       "  <tbody>\n",
       "    <tr>\n",
       "      <th>0</th>\n",
       "      <td>Andaman and Nicobar Islands</td>\n",
       "      <td>27</td>\n",
       "      <td>4</td>\n",
       "      <td>NaN</td>\n",
       "      <td>3</td>\n",
       "      <td>34</td>\n",
       "      <td>1246</td>\n",
       "      <td>380581.0</td>\n",
       "    </tr>\n",
       "    <tr>\n",
       "      <th>1</th>\n",
       "      <td>Andhra Pradesh</td>\n",
       "      <td>1417</td>\n",
       "      <td>198</td>\n",
       "      <td>31</td>\n",
       "      <td>20</td>\n",
       "      <td>1666</td>\n",
       "      <td>60799</td>\n",
       "      <td>49386799.0</td>\n",
       "    </tr>\n",
       "    <tr>\n",
       "      <th>2</th>\n",
       "      <td>Arunachal Pradesh</td>\n",
       "      <td>122</td>\n",
       "      <td>62</td>\n",
       "      <td>NaN</td>\n",
       "      <td>15</td>\n",
       "      <td>199</td>\n",
       "      <td>2320</td>\n",
       "      <td>1383727.0</td>\n",
       "    </tr>\n",
       "    <tr>\n",
       "      <th>3</th>\n",
       "      <td>Assam</td>\n",
       "      <td>1007</td>\n",
       "      <td>166</td>\n",
       "      <td>14</td>\n",
       "      <td>33</td>\n",
       "      <td>1220</td>\n",
       "      <td>19115</td>\n",
       "      <td>31205576.0</td>\n",
       "    </tr>\n",
       "    <tr>\n",
       "      <th>4</th>\n",
       "      <td>Bihar</td>\n",
       "      <td>2007</td>\n",
       "      <td>63</td>\n",
       "      <td>33</td>\n",
       "      <td>43</td>\n",
       "      <td>2146</td>\n",
       "      <td>17796</td>\n",
       "      <td>104099452.0</td>\n",
       "    </tr>\n",
       "    <tr>\n",
       "      <th>5</th>\n",
       "      <td>Chandigarh</td>\n",
       "      <td>40</td>\n",
       "      <td>2</td>\n",
       "      <td>1</td>\n",
       "      <td>4</td>\n",
       "      <td>47</td>\n",
       "      <td>3756</td>\n",
       "      <td>1055450.0</td>\n",
       "    </tr>\n",
       "    <tr>\n",
       "      <th>6</th>\n",
       "      <td>Chhattisgarh</td>\n",
       "      <td>813</td>\n",
       "      <td>166</td>\n",
       "      <td>12</td>\n",
       "      <td>32</td>\n",
       "      <td>1023</td>\n",
       "      <td>14354</td>\n",
       "      <td>25545198.0</td>\n",
       "    </tr>\n",
       "    <tr>\n",
       "      <th>7</th>\n",
       "      <td>Dadra and Nagar Haveli</td>\n",
       "      <td>9</td>\n",
       "      <td>2</td>\n",
       "      <td>1</td>\n",
       "      <td>1</td>\n",
       "      <td>13</td>\n",
       "      <td>568</td>\n",
       "      <td>343709.0</td>\n",
       "    </tr>\n",
       "    <tr>\n",
       "      <th>8</th>\n",
       "      <td>Daman and Diu</td>\n",
       "      <td>4</td>\n",
       "      <td>2</td>\n",
       "      <td>NaN</td>\n",
       "      <td>2</td>\n",
       "      <td>8</td>\n",
       "      <td>298</td>\n",
       "      <td>243247.0</td>\n",
       "    </tr>\n",
       "    <tr>\n",
       "      <th>9</th>\n",
       "      <td>Nct Of Delhi</td>\n",
       "      <td>534</td>\n",
       "      <td>25</td>\n",
       "      <td>9</td>\n",
       "      <td>47</td>\n",
       "      <td>615</td>\n",
       "      <td>20572</td>\n",
       "      <td>16787941.0</td>\n",
       "    </tr>\n",
       "    <tr>\n",
       "      <th>10</th>\n",
       "      <td>Goa</td>\n",
       "      <td>31</td>\n",
       "      <td>4</td>\n",
       "      <td>2</td>\n",
       "      <td>3</td>\n",
       "      <td>40</td>\n",
       "      <td>2666</td>\n",
       "      <td>1458545.0</td>\n",
       "    </tr>\n",
       "    <tr>\n",
       "      <th>11</th>\n",
       "      <td>Gujarat</td>\n",
       "      <td>1770</td>\n",
       "      <td>385</td>\n",
       "      <td>44</td>\n",
       "      <td>37</td>\n",
       "      <td>2236</td>\n",
       "      <td>41129</td>\n",
       "      <td>60439692.0</td>\n",
       "    </tr>\n",
       "    <tr>\n",
       "      <th>12</th>\n",
       "      <td>Haryana</td>\n",
       "      <td>500</td>\n",
       "      <td>131</td>\n",
       "      <td>24</td>\n",
       "      <td>28</td>\n",
       "      <td>683</td>\n",
       "      <td>13841</td>\n",
       "      <td>25351462.0</td>\n",
       "    </tr>\n",
       "    <tr>\n",
       "      <th>13</th>\n",
       "      <td>Himachal Pradesh</td>\n",
       "      <td>516</td>\n",
       "      <td>79</td>\n",
       "      <td>61</td>\n",
       "      <td>15</td>\n",
       "      <td>671</td>\n",
       "      <td>8706</td>\n",
       "      <td>6864602.0</td>\n",
       "    </tr>\n",
       "    <tr>\n",
       "      <th>14</th>\n",
       "      <td>Jammu and Kashmir</td>\n",
       "      <td>702</td>\n",
       "      <td>87</td>\n",
       "      <td>NaN</td>\n",
       "      <td>29</td>\n",
       "      <td>818</td>\n",
       "      <td>11342</td>\n",
       "      <td>12400500.0</td>\n",
       "    </tr>\n",
       "    <tr>\n",
       "      <th>15</th>\n",
       "      <td>Jharkhand</td>\n",
       "      <td>343</td>\n",
       "      <td>179</td>\n",
       "      <td>13</td>\n",
       "      <td>23</td>\n",
       "      <td>558</td>\n",
       "      <td>7404</td>\n",
       "      <td>32988134.0</td>\n",
       "    </tr>\n",
       "    <tr>\n",
       "      <th>16</th>\n",
       "      <td>Karnataka</td>\n",
       "      <td>2547</td>\n",
       "      <td>207</td>\n",
       "      <td>147</td>\n",
       "      <td>42</td>\n",
       "      <td>2943</td>\n",
       "      <td>56333</td>\n",
       "      <td>59248274.0</td>\n",
       "    </tr>\n",
       "    <tr>\n",
       "      <th>17</th>\n",
       "      <td>Kerala</td>\n",
       "      <td>933</td>\n",
       "      <td>229</td>\n",
       "      <td>82</td>\n",
       "      <td>53</td>\n",
       "      <td>1297</td>\n",
       "      <td>39511</td>\n",
       "      <td>33406061.0</td>\n",
       "    </tr>\n",
       "    <tr>\n",
       "      <th>18</th>\n",
       "      <td>Lakshadweep</td>\n",
       "      <td>4</td>\n",
       "      <td>3</td>\n",
       "      <td>2</td>\n",
       "      <td>1</td>\n",
       "      <td>10</td>\n",
       "      <td>250</td>\n",
       "      <td>64473.0</td>\n",
       "    </tr>\n",
       "    <tr>\n",
       "      <th>19</th>\n",
       "      <td>Madhya Pradesh</td>\n",
       "      <td>1420</td>\n",
       "      <td>324</td>\n",
       "      <td>72</td>\n",
       "      <td>51</td>\n",
       "      <td>1867</td>\n",
       "      <td>38140</td>\n",
       "      <td>72626809.0</td>\n",
       "    </tr>\n",
       "    <tr>\n",
       "      <th>20</th>\n",
       "      <td>Maharashtra</td>\n",
       "      <td>2638</td>\n",
       "      <td>430</td>\n",
       "      <td>101</td>\n",
       "      <td>70</td>\n",
       "      <td>3239</td>\n",
       "      <td>68998</td>\n",
       "      <td>112374333.0</td>\n",
       "    </tr>\n",
       "    <tr>\n",
       "      <th>21</th>\n",
       "      <td>Manipur</td>\n",
       "      <td>87</td>\n",
       "      <td>17</td>\n",
       "      <td>1</td>\n",
       "      <td>9</td>\n",
       "      <td>114</td>\n",
       "      <td>2562</td>\n",
       "      <td>2855794.0</td>\n",
       "    </tr>\n",
       "    <tr>\n",
       "      <th>22</th>\n",
       "      <td>Meghalaya</td>\n",
       "      <td>138</td>\n",
       "      <td>29</td>\n",
       "      <td>NaN</td>\n",
       "      <td>13</td>\n",
       "      <td>180</td>\n",
       "      <td>4585</td>\n",
       "      <td>2966889.0</td>\n",
       "    </tr>\n",
       "    <tr>\n",
       "      <th>23</th>\n",
       "      <td>Mizoram</td>\n",
       "      <td>65</td>\n",
       "      <td>10</td>\n",
       "      <td>3</td>\n",
       "      <td>9</td>\n",
       "      <td>87</td>\n",
       "      <td>2312</td>\n",
       "      <td>1097206.0</td>\n",
       "    </tr>\n",
       "    <tr>\n",
       "      <th>24</th>\n",
       "      <td>Nagaland</td>\n",
       "      <td>134</td>\n",
       "      <td>21</td>\n",
       "      <td>NaN</td>\n",
       "      <td>11</td>\n",
       "      <td>166</td>\n",
       "      <td>1944</td>\n",
       "      <td>1978502.0</td>\n",
       "    </tr>\n",
       "    <tr>\n",
       "      <th>25</th>\n",
       "      <td>Orissa</td>\n",
       "      <td>1360</td>\n",
       "      <td>377</td>\n",
       "      <td>27</td>\n",
       "      <td>35</td>\n",
       "      <td>1799</td>\n",
       "      <td>16497</td>\n",
       "      <td>41974218.0</td>\n",
       "    </tr>\n",
       "    <tr>\n",
       "      <th>26</th>\n",
       "      <td>Pondicherry</td>\n",
       "      <td>40</td>\n",
       "      <td>4</td>\n",
       "      <td>5</td>\n",
       "      <td>4</td>\n",
       "      <td>53</td>\n",
       "      <td>4462</td>\n",
       "      <td>1247953.0</td>\n",
       "    </tr>\n",
       "    <tr>\n",
       "      <th>27</th>\n",
       "      <td>Punjab</td>\n",
       "      <td>521</td>\n",
       "      <td>146</td>\n",
       "      <td>47</td>\n",
       "      <td>28</td>\n",
       "      <td>742</td>\n",
       "      <td>13527</td>\n",
       "      <td>27743338.0</td>\n",
       "    </tr>\n",
       "    <tr>\n",
       "      <th>28</th>\n",
       "      <td>Rajasthan</td>\n",
       "      <td>2463</td>\n",
       "      <td>579</td>\n",
       "      <td>64</td>\n",
       "      <td>33</td>\n",
       "      <td>3139</td>\n",
       "      <td>51844</td>\n",
       "      <td>68548437.0</td>\n",
       "    </tr>\n",
       "    <tr>\n",
       "      <th>29</th>\n",
       "      <td>Sikkim</td>\n",
       "      <td>25</td>\n",
       "      <td>2</td>\n",
       "      <td>1</td>\n",
       "      <td>4</td>\n",
       "      <td>32</td>\n",
       "      <td>1145</td>\n",
       "      <td>610577.0</td>\n",
       "    </tr>\n",
       "    <tr>\n",
       "      <th>30</th>\n",
       "      <td>Tamil Nadu</td>\n",
       "      <td>1854</td>\n",
       "      <td>385</td>\n",
       "      <td>310</td>\n",
       "      <td>32</td>\n",
       "      <td>2581</td>\n",
       "      <td>72616</td>\n",
       "      <td>72147030.0</td>\n",
       "    </tr>\n",
       "    <tr>\n",
       "      <th>31</th>\n",
       "      <td>Telangana</td>\n",
       "      <td>788</td>\n",
       "      <td>82</td>\n",
       "      <td>47</td>\n",
       "      <td>15</td>\n",
       "      <td>932</td>\n",
       "      <td>17358</td>\n",
       "      <td>35193978.0</td>\n",
       "    </tr>\n",
       "    <tr>\n",
       "      <th>32</th>\n",
       "      <td>Tripura</td>\n",
       "      <td>114</td>\n",
       "      <td>22</td>\n",
       "      <td>12</td>\n",
       "      <td>9</td>\n",
       "      <td>157</td>\n",
       "      <td>4895</td>\n",
       "      <td>3673917.0</td>\n",
       "    </tr>\n",
       "    <tr>\n",
       "      <th>33</th>\n",
       "      <td>Uttar Pradesh</td>\n",
       "      <td>3277</td>\n",
       "      <td>671</td>\n",
       "      <td>NaN</td>\n",
       "      <td>174</td>\n",
       "      <td>4122</td>\n",
       "      <td>58310</td>\n",
       "      <td>199812341.0</td>\n",
       "    </tr>\n",
       "    <tr>\n",
       "      <th>34</th>\n",
       "      <td>Uttarakhand</td>\n",
       "      <td>275</td>\n",
       "      <td>69</td>\n",
       "      <td>19</td>\n",
       "      <td>20</td>\n",
       "      <td>383</td>\n",
       "      <td>6660</td>\n",
       "      <td>10086292.0</td>\n",
       "    </tr>\n",
       "    <tr>\n",
       "      <th>35</th>\n",
       "      <td>West Bengal</td>\n",
       "      <td>1374</td>\n",
       "      <td>406</td>\n",
       "      <td>70</td>\n",
       "      <td>55</td>\n",
       "      <td>1905</td>\n",
       "      <td>51163</td>\n",
       "      <td>91276115.0</td>\n",
       "    </tr>\n",
       "    <tr>\n",
       "      <th>36</th>\n",
       "      <td>All India</td>\n",
       "      <td>29,899</td>\n",
       "      <td>5,568</td>\n",
       "      <td>1,255</td>\n",
       "      <td>1,003</td>\n",
       "      <td>37,725</td>\n",
       "      <td>7,39,024</td>\n",
       "      <td>NaN</td>\n",
       "    </tr>\n",
       "  </tbody>\n",
       "</table>\n",
       "</div>"
      ],
      "text/plain": [
       "                       State/UT Number_of_Primary_Health_Centers  \\\n",
       "0   Andaman and Nicobar Islands                               27   \n",
       "1                Andhra Pradesh                             1417   \n",
       "2             Arunachal Pradesh                              122   \n",
       "3                         Assam                             1007   \n",
       "4                         Bihar                             2007   \n",
       "5                    Chandigarh                               40   \n",
       "6                  Chhattisgarh                              813   \n",
       "7        Dadra and Nagar Haveli                                9   \n",
       "8                 Daman and Diu                                4   \n",
       "9                  Nct Of Delhi                              534   \n",
       "10                          Goa                               31   \n",
       "11                      Gujarat                             1770   \n",
       "12                      Haryana                              500   \n",
       "13             Himachal Pradesh                              516   \n",
       "14            Jammu and Kashmir                              702   \n",
       "15                    Jharkhand                              343   \n",
       "16                    Karnataka                             2547   \n",
       "17                       Kerala                              933   \n",
       "18                  Lakshadweep                                4   \n",
       "19               Madhya Pradesh                             1420   \n",
       "20                  Maharashtra                             2638   \n",
       "21                      Manipur                               87   \n",
       "22                    Meghalaya                              138   \n",
       "23                      Mizoram                               65   \n",
       "24                     Nagaland                              134   \n",
       "25                       Orissa                             1360   \n",
       "26                  Pondicherry                               40   \n",
       "27                       Punjab                              521   \n",
       "28                    Rajasthan                             2463   \n",
       "29                       Sikkim                               25   \n",
       "30                   Tamil Nadu                             1854   \n",
       "31                    Telangana                              788   \n",
       "32                      Tripura                              114   \n",
       "33                Uttar Pradesh                             3277   \n",
       "34                  Uttarakhand                              275   \n",
       "35                  West Bengal                             1374   \n",
       "36                    All India                           29,899   \n",
       "\n",
       "   Community_Health_Centers Sub-District/Divisional_Hospitals  \\\n",
       "0                         4                               NaN   \n",
       "1                       198                                31   \n",
       "2                        62                               NaN   \n",
       "3                       166                                14   \n",
       "4                        63                                33   \n",
       "5                         2                                 1   \n",
       "6                       166                                12   \n",
       "7                         2                                 1   \n",
       "8                         2                               NaN   \n",
       "9                        25                                 9   \n",
       "10                        4                                 2   \n",
       "11                      385                                44   \n",
       "12                      131                                24   \n",
       "13                       79                                61   \n",
       "14                       87                               NaN   \n",
       "15                      179                                13   \n",
       "16                      207                               147   \n",
       "17                      229                                82   \n",
       "18                        3                                 2   \n",
       "19                      324                                72   \n",
       "20                      430                               101   \n",
       "21                       17                                 1   \n",
       "22                       29                               NaN   \n",
       "23                       10                                 3   \n",
       "24                       21                               NaN   \n",
       "25                      377                                27   \n",
       "26                        4                                 5   \n",
       "27                      146                                47   \n",
       "28                      579                                64   \n",
       "29                        2                                 1   \n",
       "30                      385                               310   \n",
       "31                       82                                47   \n",
       "32                       22                                12   \n",
       "33                      671                               NaN   \n",
       "34                       69                                19   \n",
       "35                      406                                70   \n",
       "36                    5,568                             1,255   \n",
       "\n",
       "   District_Hospitals Hospitals HospitalBeds   Population  \n",
       "0                   3        34         1246     380581.0  \n",
       "1                  20      1666        60799   49386799.0  \n",
       "2                  15       199         2320    1383727.0  \n",
       "3                  33      1220        19115   31205576.0  \n",
       "4                  43      2146        17796  104099452.0  \n",
       "5                   4        47         3756    1055450.0  \n",
       "6                  32      1023        14354   25545198.0  \n",
       "7                   1        13          568     343709.0  \n",
       "8                   2         8          298     243247.0  \n",
       "9                  47       615        20572   16787941.0  \n",
       "10                  3        40         2666    1458545.0  \n",
       "11                 37      2236        41129   60439692.0  \n",
       "12                 28       683        13841   25351462.0  \n",
       "13                 15       671         8706    6864602.0  \n",
       "14                 29       818        11342   12400500.0  \n",
       "15                 23       558         7404   32988134.0  \n",
       "16                 42      2943        56333   59248274.0  \n",
       "17                 53      1297        39511   33406061.0  \n",
       "18                  1        10          250      64473.0  \n",
       "19                 51      1867        38140   72626809.0  \n",
       "20                 70      3239        68998  112374333.0  \n",
       "21                  9       114         2562    2855794.0  \n",
       "22                 13       180         4585    2966889.0  \n",
       "23                  9        87         2312    1097206.0  \n",
       "24                 11       166         1944    1978502.0  \n",
       "25                 35      1799        16497   41974218.0  \n",
       "26                  4        53         4462    1247953.0  \n",
       "27                 28       742        13527   27743338.0  \n",
       "28                 33      3139        51844   68548437.0  \n",
       "29                  4        32         1145     610577.0  \n",
       "30                 32      2581        72616   72147030.0  \n",
       "31                 15       932        17358   35193978.0  \n",
       "32                  9       157         4895    3673917.0  \n",
       "33                174      4122        58310  199812341.0  \n",
       "34                 20       383         6660   10086292.0  \n",
       "35                 55      1905        51163   91276115.0  \n",
       "36              1,003    37,725     7,39,024          NaN  "
      ]
     },
     "execution_count": 75,
     "metadata": {},
     "output_type": "execute_result"
    }
   ],
   "source": [
    "hosp_pop\n"
   ]
  },
  {
   "cell_type": "code",
   "execution_count": 76,
   "id": "e155c6c7",
   "metadata": {},
   "outputs": [
    {
     "data": {
      "text/plain": [
       "1208867152.0"
      ]
     },
     "execution_count": 76,
     "metadata": {},
     "output_type": "execute_result"
    }
   ],
   "source": [
    "hosp_pop[\"Population\"].sum()"
   ]
  },
  {
   "cell_type": "code",
   "execution_count": 77,
   "id": "62ffc17e",
   "metadata": {},
   "outputs": [],
   "source": [
    "def commaremover(a):\n",
    "    x=\"\"\n",
    "    for i in a:\n",
    "        if (i!=\",\"):\n",
    "            x+=i\n",
    "    return x\n"
   ]
  },
  {
   "cell_type": "code",
   "execution_count": 78,
   "id": "c334ed5c",
   "metadata": {},
   "outputs": [],
   "source": [
    "hosp_pop[\"HospitalBeds\"]=hosp_pop[\"HospitalBeds\"].apply(commaremover)"
   ]
  },
  {
   "cell_type": "code",
   "execution_count": 79,
   "id": "2db470c1",
   "metadata": {
    "scrolled": true
   },
   "outputs": [],
   "source": [
    "hosp_pop[\"HospitalBeds\"]=hosp_pop[\"HospitalBeds\"].astype(float)"
   ]
  },
  {
   "cell_type": "code",
   "execution_count": 80,
   "id": "b5a4fcd0",
   "metadata": {},
   "outputs": [],
   "source": [
    "hosp_pop[\"Overall_India\"]=(739024/1208867152)*10000"
   ]
  },
  {
   "cell_type": "code",
   "execution_count": 81,
   "id": "7df31e9f",
   "metadata": {},
   "outputs": [
    {
     "data": {
      "text/plain": [
       "0    6.0\n",
       "1    6.0\n",
       "2    6.0\n",
       "3    6.0\n",
       "4    6.0\n",
       "Name: Overall_India, dtype: float64"
      ]
     },
     "execution_count": 81,
     "metadata": {},
     "output_type": "execute_result"
    }
   ],
   "source": [
    "hosp_pop[\"Overall_India\"]=hosp_pop[\"Overall_India\"].round()\n",
    "hosp_pop[\"Overall_India\"].head()"
   ]
  },
  {
   "cell_type": "code",
   "execution_count": 82,
   "id": "a9f6ff90",
   "metadata": {},
   "outputs": [],
   "source": [
    "hosp_pop[\"Population\"].fillna(hosp_pop[\"Population\"].sum(),inplace=True)"
   ]
  },
  {
   "cell_type": "code",
   "execution_count": 83,
   "id": "0a5dd0cb",
   "metadata": {},
   "outputs": [],
   "source": [
    "hosp_pop[\"bedsper10000\"]=(hosp_pop[\"HospitalBeds\"]/hosp_pop[\"Population\"])*10000"
   ]
  },
  {
   "cell_type": "code",
   "execution_count": 84,
   "id": "080d2008",
   "metadata": {},
   "outputs": [],
   "source": [
    "hosp_pop[\"bedsper10000\"]=hosp_pop[\"bedsper10000\"].round()\n",
    "hosp_pop.sort_values(by=\"bedsper10000\",inplace=True)"
   ]
  },
  {
   "cell_type": "code",
   "execution_count": 85,
   "id": "c7e2e303",
   "metadata": {},
   "outputs": [
    {
     "data": {
      "image/png": "[encoded data removed]",
      "text/plain": [
       "<Figure size 1080x432 with 1 Axes>"
      ]
     },
     "metadata": {
      "needs_background": "light"
     },
     "output_type": "display_data"
    }
   ],
   "source": [
    "hosp_pop.plot(x=\"State/UT\", y=[\"Overall_India\", \"bedsper10000\"], kind=\"bar\",figsize=(15,6));"
   ]
  },
  {
   "cell_type": "markdown",
   "id": "c9e86a3b",
   "metadata": {},
   "source": [
    "## top 3 least beds per 10000 people states/UT are Jharkhan , Bihar and Uttar Pradesh with 2,2 and 3 beds per 10000 people respectively"
   ]
  },
  {
   "cell_type": "markdown",
   "id": "38c2e405",
   "metadata": {},
   "source": [
    "# Problem Statement 13: (Multi-line header)"
   ]
  },
  {
   "cell_type": "code",
   "execution_count": 86,
   "id": "dcff121e",
   "metadata": {},
   "outputs": [],
   "source": [
    "govt_hosp=pd.read_csv(r\"/home/student/unclean/government_hospitals.csv\")"
   ]
  },
  {
   "cell_type": "code",
   "execution_count": 87,
   "id": "975b0921",
   "metadata": {
    "scrolled": true
   },
   "outputs": [
    {
     "data": {
      "text/html": [
       "<div>\n",
       "<style scoped>\n",
       "    .dataframe tbody tr th:only-of-type {\n",
       "        vertical-align: middle;\n",
       "    }\n",
       "\n",
       "    .dataframe tbody tr th {\n",
       "        vertical-align: top;\n",
       "    }\n",
       "\n",
       "    .dataframe thead th {\n",
       "        text-align: right;\n",
       "    }\n",
       "</style>\n",
       "<table border=\"1\" class=\"dataframe\">\n",
       "  <thead>\n",
       "    <tr style=\"text-align: right;\">\n",
       "      <th></th>\n",
       "      <th>States/UTs</th>\n",
       "      <th>Rural hospitals</th>\n",
       "      <th>Unnamed: 2</th>\n",
       "      <th>Urban hospitals</th>\n",
       "      <th>Unnamed: 4</th>\n",
       "      <th>As on</th>\n",
       "    </tr>\n",
       "  </thead>\n",
       "  <tbody>\n",
       "    <tr>\n",
       "      <th>0</th>\n",
       "      <td>NaN</td>\n",
       "      <td>No.</td>\n",
       "      <td>Beds</td>\n",
       "      <td>No.</td>\n",
       "      <td>Beds</td>\n",
       "      <td>NaN</td>\n",
       "    </tr>\n",
       "    <tr>\n",
       "      <th>1</th>\n",
       "      <td>Andhra Pradesh</td>\n",
       "      <td>193</td>\n",
       "      <td>6480</td>\n",
       "      <td>65</td>\n",
       "      <td>16658</td>\n",
       "      <td>01.01.2017</td>\n",
       "    </tr>\n",
       "    <tr>\n",
       "      <th>2</th>\n",
       "      <td>Arunachal Pradesh*</td>\n",
       "      <td>208</td>\n",
       "      <td>2136</td>\n",
       "      <td>10</td>\n",
       "      <td>268</td>\n",
       "      <td>31.12.2017</td>\n",
       "    </tr>\n",
       "    <tr>\n",
       "      <th>3</th>\n",
       "      <td>Assam</td>\n",
       "      <td>1176</td>\n",
       "      <td>10944</td>\n",
       "      <td>50</td>\n",
       "      <td>6198</td>\n",
       "      <td>31.12.2017</td>\n",
       "    </tr>\n",
       "    <tr>\n",
       "      <th>4</th>\n",
       "      <td>Bihar</td>\n",
       "      <td>930</td>\n",
       "      <td>6083</td>\n",
       "      <td>103</td>\n",
       "      <td>5936</td>\n",
       "      <td>31.12.2016</td>\n",
       "    </tr>\n",
       "    <tr>\n",
       "      <th>5</th>\n",
       "      <td>Chhattisgarh</td>\n",
       "      <td>169</td>\n",
       "      <td>5070</td>\n",
       "      <td>45</td>\n",
       "      <td>4342</td>\n",
       "      <td>01.01.2016</td>\n",
       "    </tr>\n",
       "    <tr>\n",
       "      <th>6</th>\n",
       "      <td>Goa*</td>\n",
       "      <td>17</td>\n",
       "      <td>1405</td>\n",
       "      <td>25</td>\n",
       "      <td>1608</td>\n",
       "      <td>31.12.2017</td>\n",
       "    </tr>\n",
       "    <tr>\n",
       "      <th>7</th>\n",
       "      <td>Gujarat</td>\n",
       "      <td>364</td>\n",
       "      <td>11715</td>\n",
       "      <td>122</td>\n",
       "      <td>20565</td>\n",
       "      <td>31.12.2016</td>\n",
       "    </tr>\n",
       "    <tr>\n",
       "      <th>8</th>\n",
       "      <td>Haryana*</td>\n",
       "      <td>609</td>\n",
       "      <td>6690</td>\n",
       "      <td>59</td>\n",
       "      <td>4550</td>\n",
       "      <td>31.12.2016</td>\n",
       "    </tr>\n",
       "    <tr>\n",
       "      <th>9</th>\n",
       "      <td>Himachal Pradesh*</td>\n",
       "      <td>705</td>\n",
       "      <td>5665</td>\n",
       "      <td>96</td>\n",
       "      <td>6734</td>\n",
       "      <td>31.12.2017</td>\n",
       "    </tr>\n",
       "    <tr>\n",
       "      <th>10</th>\n",
       "      <td>Jammu &amp; Kashmir</td>\n",
       "      <td>56</td>\n",
       "      <td>7234</td>\n",
       "      <td>76</td>\n",
       "      <td>4417</td>\n",
       "      <td>30.12.2016</td>\n",
       "    </tr>\n",
       "    <tr>\n",
       "      <th>11</th>\n",
       "      <td>Jharkhand</td>\n",
       "      <td>519</td>\n",
       "      <td>5842</td>\n",
       "      <td>36</td>\n",
       "      <td>4942</td>\n",
       "      <td>31.12.2015</td>\n",
       "    </tr>\n",
       "    <tr>\n",
       "      <th>12</th>\n",
       "      <td>Karnataka*</td>\n",
       "      <td>2471</td>\n",
       "      <td>21072</td>\n",
       "      <td>374</td>\n",
       "      <td>49093</td>\n",
       "      <td>31.12.2017</td>\n",
       "    </tr>\n",
       "    <tr>\n",
       "      <th>13</th>\n",
       "      <td>Kerala</td>\n",
       "      <td>981</td>\n",
       "      <td>16865</td>\n",
       "      <td>299</td>\n",
       "      <td>21139</td>\n",
       "      <td>01.01.2017</td>\n",
       "    </tr>\n",
       "    <tr>\n",
       "      <th>14</th>\n",
       "      <td>Madhya Pradesh</td>\n",
       "      <td>334</td>\n",
       "      <td>10020</td>\n",
       "      <td>117</td>\n",
       "      <td>18819</td>\n",
       "      <td>01.01.2016</td>\n",
       "    </tr>\n",
       "    <tr>\n",
       "      <th>15</th>\n",
       "      <td>Maharashtra</td>\n",
       "      <td>273</td>\n",
       "      <td>12398</td>\n",
       "      <td>438</td>\n",
       "      <td>39048</td>\n",
       "      <td>31.12.2015</td>\n",
       "    </tr>\n",
       "    <tr>\n",
       "      <th>16</th>\n",
       "      <td>Manipur</td>\n",
       "      <td>23</td>\n",
       "      <td>730</td>\n",
       "      <td>7</td>\n",
       "      <td>697</td>\n",
       "      <td>01.01.2014</td>\n",
       "    </tr>\n",
       "    <tr>\n",
       "      <th>17</th>\n",
       "      <td>Meghalaya*</td>\n",
       "      <td>143</td>\n",
       "      <td>1970</td>\n",
       "      <td>14</td>\n",
       "      <td>2487</td>\n",
       "      <td>31.12.2017</td>\n",
       "    </tr>\n",
       "    <tr>\n",
       "      <th>18</th>\n",
       "      <td>Mizoram*</td>\n",
       "      <td>56</td>\n",
       "      <td>604</td>\n",
       "      <td>34</td>\n",
       "      <td>1393</td>\n",
       "      <td>31.12.2017</td>\n",
       "    </tr>\n",
       "    <tr>\n",
       "      <th>19</th>\n",
       "      <td>Nagaland</td>\n",
       "      <td>21</td>\n",
       "      <td>630</td>\n",
       "      <td>15</td>\n",
       "      <td>1250</td>\n",
       "      <td>31.12.2015</td>\n",
       "    </tr>\n",
       "    <tr>\n",
       "      <th>20</th>\n",
       "      <td>Odisha*</td>\n",
       "      <td>1655</td>\n",
       "      <td>6339</td>\n",
       "      <td>149</td>\n",
       "      <td>12180</td>\n",
       "      <td>31.12.2017</td>\n",
       "    </tr>\n",
       "    <tr>\n",
       "      <th>21</th>\n",
       "      <td>Punjab*</td>\n",
       "      <td>510</td>\n",
       "      <td>5805</td>\n",
       "      <td>172</td>\n",
       "      <td>12128</td>\n",
       "      <td>31.12.2017</td>\n",
       "    </tr>\n",
       "    <tr>\n",
       "      <th>22</th>\n",
       "      <td>Rajasthan</td>\n",
       "      <td>602</td>\n",
       "      <td>21088</td>\n",
       "      <td>150</td>\n",
       "      <td>10760</td>\n",
       "      <td>31.12.2016</td>\n",
       "    </tr>\n",
       "    <tr>\n",
       "      <th>23</th>\n",
       "      <td>Sikkim*</td>\n",
       "      <td>24</td>\n",
       "      <td>260</td>\n",
       "      <td>9</td>\n",
       "      <td>1300</td>\n",
       "      <td>31.12.2017</td>\n",
       "    </tr>\n",
       "    <tr>\n",
       "      <th>24</th>\n",
       "      <td>Tamil Nadu*</td>\n",
       "      <td>692</td>\n",
       "      <td>40179</td>\n",
       "      <td>525</td>\n",
       "      <td>37353</td>\n",
       "      <td>31.12.2017</td>\n",
       "    </tr>\n",
       "    <tr>\n",
       "      <th>25</th>\n",
       "      <td>Telangana*</td>\n",
       "      <td>802</td>\n",
       "      <td>7668</td>\n",
       "      <td>61</td>\n",
       "      <td>13315</td>\n",
       "      <td>31.12.2017</td>\n",
       "    </tr>\n",
       "    <tr>\n",
       "      <th>26</th>\n",
       "      <td>Tripura*</td>\n",
       "      <td>99</td>\n",
       "      <td>1140</td>\n",
       "      <td>56</td>\n",
       "      <td>3277</td>\n",
       "      <td>31.12.2017</td>\n",
       "    </tr>\n",
       "    <tr>\n",
       "      <th>27</th>\n",
       "      <td>Uttar Pradesh*</td>\n",
       "      <td>4442</td>\n",
       "      <td>39104</td>\n",
       "      <td>193</td>\n",
       "      <td>37156</td>\n",
       "      <td>31.12.2017</td>\n",
       "    </tr>\n",
       "    <tr>\n",
       "      <th>28</th>\n",
       "      <td>Uttarakhand</td>\n",
       "      <td>410</td>\n",
       "      <td>3284</td>\n",
       "      <td>50</td>\n",
       "      <td>5228</td>\n",
       "      <td>31.12.2015</td>\n",
       "    </tr>\n",
       "    <tr>\n",
       "      <th>29</th>\n",
       "      <td>West Bengal</td>\n",
       "      <td>1272</td>\n",
       "      <td>19684</td>\n",
       "      <td>294</td>\n",
       "      <td>58882</td>\n",
       "      <td>01.01.2015</td>\n",
       "    </tr>\n",
       "    <tr>\n",
       "      <th>30</th>\n",
       "      <td>Andaman &amp; Nicobar Islands</td>\n",
       "      <td>27</td>\n",
       "      <td>575</td>\n",
       "      <td>3</td>\n",
       "      <td>500</td>\n",
       "      <td>31.12.2016</td>\n",
       "    </tr>\n",
       "    <tr>\n",
       "      <th>31</th>\n",
       "      <td>Chandigarh</td>\n",
       "      <td>0</td>\n",
       "      <td>0</td>\n",
       "      <td>4</td>\n",
       "      <td>778</td>\n",
       "      <td>31.12.2016</td>\n",
       "    </tr>\n",
       "    <tr>\n",
       "      <th>32</th>\n",
       "      <td>Dadra &amp; Nagar Haveli*</td>\n",
       "      <td>10</td>\n",
       "      <td>273</td>\n",
       "      <td>1</td>\n",
       "      <td>316</td>\n",
       "      <td>31.12.2017</td>\n",
       "    </tr>\n",
       "    <tr>\n",
       "      <th>33</th>\n",
       "      <td>Daman &amp; Diu</td>\n",
       "      <td>5</td>\n",
       "      <td>240</td>\n",
       "      <td>0</td>\n",
       "      <td>0</td>\n",
       "      <td>31.12.2015</td>\n",
       "    </tr>\n",
       "    <tr>\n",
       "      <th>34</th>\n",
       "      <td>Delhi</td>\n",
       "      <td>0</td>\n",
       "      <td>0</td>\n",
       "      <td>109</td>\n",
       "      <td>24383</td>\n",
       "      <td>01.01.2015</td>\n",
       "    </tr>\n",
       "    <tr>\n",
       "      <th>35</th>\n",
       "      <td>Lakshadweep</td>\n",
       "      <td>9</td>\n",
       "      <td>300</td>\n",
       "      <td>0</td>\n",
       "      <td>0</td>\n",
       "      <td>01.01.2016</td>\n",
       "    </tr>\n",
       "    <tr>\n",
       "      <th>36</th>\n",
       "      <td>Puducherry</td>\n",
       "      <td>3</td>\n",
       "      <td>96</td>\n",
       "      <td>11</td>\n",
       "      <td>3473</td>\n",
       "      <td>01.01.2016</td>\n",
       "    </tr>\n",
       "    <tr>\n",
       "      <th>37</th>\n",
       "      <td>INDIA</td>\n",
       "      <td>19810</td>\n",
       "      <td>279588</td>\n",
       "      <td>3772</td>\n",
       "      <td>431173</td>\n",
       "      <td>NaN</td>\n",
       "    </tr>\n",
       "  </tbody>\n",
       "</table>\n",
       "</div>"
      ],
      "text/plain": [
       "                   States/UTs Rural hospitals Unnamed: 2 Urban hospitals  \\\n",
       "0                         NaN             No.       Beds             No.   \n",
       "1              Andhra Pradesh             193       6480              65   \n",
       "2          Arunachal Pradesh*             208       2136              10   \n",
       "3                       Assam            1176      10944              50   \n",
       "4                       Bihar             930       6083             103   \n",
       "5                Chhattisgarh             169       5070              45   \n",
       "6                        Goa*              17       1405              25   \n",
       "7                     Gujarat             364      11715             122   \n",
       "8                    Haryana*             609       6690              59   \n",
       "9           Himachal Pradesh*             705       5665              96   \n",
       "10            Jammu & Kashmir              56       7234              76   \n",
       "11                  Jharkhand             519       5842              36   \n",
       "12                 Karnataka*            2471      21072             374   \n",
       "13                     Kerala             981      16865             299   \n",
       "14             Madhya Pradesh             334      10020             117   \n",
       "15                Maharashtra             273      12398             438   \n",
       "16                    Manipur              23        730               7   \n",
       "17                 Meghalaya*             143       1970              14   \n",
       "18                   Mizoram*              56        604              34   \n",
       "19                   Nagaland              21        630              15   \n",
       "20                    Odisha*            1655       6339             149   \n",
       "21                    Punjab*             510       5805             172   \n",
       "22                  Rajasthan             602      21088             150   \n",
       "23                    Sikkim*              24        260               9   \n",
       "24                Tamil Nadu*             692      40179             525   \n",
       "25                 Telangana*             802       7668              61   \n",
       "26                   Tripura*              99       1140              56   \n",
       "27             Uttar Pradesh*            4442      39104             193   \n",
       "28                Uttarakhand             410       3284              50   \n",
       "29                West Bengal            1272      19684             294   \n",
       "30  Andaman & Nicobar Islands              27        575               3   \n",
       "31                 Chandigarh               0          0               4   \n",
       "32      Dadra & Nagar Haveli*              10        273               1   \n",
       "33                Daman & Diu               5        240               0   \n",
       "34                      Delhi               0          0             109   \n",
       "35                Lakshadweep               9        300               0   \n",
       "36                 Puducherry               3         96              11   \n",
       "37                      INDIA           19810     279588            3772   \n",
       "\n",
       "   Unnamed: 4       As on  \n",
       "0        Beds         NaN  \n",
       "1       16658  01.01.2017  \n",
       "2         268  31.12.2017  \n",
       "3        6198  31.12.2017  \n",
       "4        5936  31.12.2016  \n",
       "5        4342  01.01.2016  \n",
       "6        1608  31.12.2017  \n",
       "7       20565  31.12.2016  \n",
       "8        4550  31.12.2016  \n",
       "9        6734  31.12.2017  \n",
       "10       4417  30.12.2016  \n",
       "11       4942  31.12.2015  \n",
       "12      49093  31.12.2017  \n",
       "13      21139  01.01.2017  \n",
       "14      18819  01.01.2016  \n",
       "15      39048  31.12.2015  \n",
       "16        697  01.01.2014  \n",
       "17       2487  31.12.2017  \n",
       "18       1393  31.12.2017  \n",
       "19       1250  31.12.2015  \n",
       "20      12180  31.12.2017  \n",
       "21      12128  31.12.2017  \n",
       "22      10760  31.12.2016  \n",
       "23       1300  31.12.2017  \n",
       "24      37353  31.12.2017  \n",
       "25      13315  31.12.2017  \n",
       "26       3277  31.12.2017  \n",
       "27      37156  31.12.2017  \n",
       "28       5228  31.12.2015  \n",
       "29      58882  01.01.2015  \n",
       "30        500  31.12.2016  \n",
       "31        778  31.12.2016  \n",
       "32        316  31.12.2017  \n",
       "33          0  31.12.2015  \n",
       "34      24383  01.01.2015  \n",
       "35          0  01.01.2016  \n",
       "36       3473  01.01.2016  \n",
       "37     431173         NaN  "
      ]
     },
     "execution_count": 87,
     "metadata": {},
     "output_type": "execute_result"
    }
   ],
   "source": [
    "govt_hosp"
   ]
  },
  {
   "cell_type": "code",
   "execution_count": 88,
   "id": "247a22e4",
   "metadata": {},
   "outputs": [],
   "source": [
    "govt_hosp.columns=[\"State/UT\",\"Rural_Government_Hospitals\",\"Rural_Government_Beds\",\"Urban_Government_Hospitals\",\"Urban_Government_Beds\",\"Last_Updated\"]"
   ]
  },
  {
   "cell_type": "code",
   "execution_count": 89,
   "id": "029a935b",
   "metadata": {},
   "outputs": [],
   "source": [
    "govt_hosp.drop(0,axis=0,inplace=True)"
   ]
  },
  {
   "cell_type": "code",
   "execution_count": 90,
   "id": "7eb46aa3",
   "metadata": {},
   "outputs": [],
   "source": [
    "\n",
    "govt_hosp.reset_index(inplace=True)\n"
   ]
  },
  {
   "cell_type": "code",
   "execution_count": 91,
   "id": "bc7dd246",
   "metadata": {},
   "outputs": [],
   "source": [
    "govt_hosp.drop(\"index\",axis=1,inplace=True)"
   ]
  },
  {
   "cell_type": "markdown",
   "id": "4d734f35",
   "metadata": {},
   "source": [
    "# Problem Statement 14: (Data update and code reuse)"
   ]
  },
  {
   "cell_type": "code",
   "execution_count": 93,
   "id": "2682b90b",
   "metadata": {},
   "outputs": [],
   "source": [
    "govt_hosp[\"Last_Updated\"]=pd.to_datetime(govt_hosp[\"Last_Updated\"],format=\"%d.%m.%Y\")"
   ]
  },
  {
   "cell_type": "code",
   "execution_count": 94,
   "id": "9762fc85",
   "metadata": {},
   "outputs": [],
   "source": [
    "govt_hosp[\"Last_Updated\"]=govt_hosp[\"Last_Updated\"].dt.strftime(date_format=\"%Y-%m-%d\")"
   ]
  },
  {
   "cell_type": "code",
   "execution_count": 95,
   "id": "5bc4be18",
   "metadata": {
    "scrolled": true
   },
   "outputs": [
    {
     "data": {
      "text/plain": [
       "0    2017-01-01\n",
       "1    2017-12-31\n",
       "2    2017-12-31\n",
       "3    2016-12-31\n",
       "4    2016-01-01\n",
       "Name: Last_Updated, dtype: object"
      ]
     },
     "execution_count": 95,
     "metadata": {},
     "output_type": "execute_result"
    }
   ],
   "source": [
    "govt_hosp[\"Last_Updated\"].head()"
   ]
  },
  {
   "cell_type": "code",
   "execution_count": 96,
   "id": "d848a9f4",
   "metadata": {},
   "outputs": [
    {
     "name": "stdout",
     "output_type": "stream",
     "text": [
      "['Andaman and Nicobar Islands', 'Andhra Pradesh', 'Arunachal Pradesh', 'Assam', 'Bihar', 'Chandigarh', 'Chhattisgarh', 'Dadra and Nagar Haveli', 'Daman and Diu', 'Goa', 'Gujarat', 'Haryana', 'Himachal Pradesh', 'Jammu and Kashmir', 'Jharkhand', 'Karnataka', 'Kerala', 'Laddakh', 'Lakshadweep', 'Madhya Pradesh', 'Maharashtra', 'Manipur', 'Meghalaya', 'Mizoram', 'Nagaland', 'Nct Of Delhi', 'Orissa', 'Pondicherry', 'Punjab', 'Rajasthan', 'Sikkim', 'Tamil Nadu', 'Telangana', 'Tripura', 'Uttar Pradesh', 'Uttarakhand', 'West Bengal']\n"
     ]
    }
   ],
   "source": [
    "print(sorted(censos[\"State/UT\"].unique()))"
   ]
  },
  {
   "cell_type": "code",
   "execution_count": 97,
   "id": "dc897e52",
   "metadata": {},
   "outputs": [
    {
     "data": {
      "text/plain": [
       "array(['Andhra Pradesh', 'Arunachal Pradesh*', 'Assam', 'Bihar',\n",
       "       'Chhattisgarh', 'Goa*', 'Gujarat', 'Haryana*', 'Himachal Pradesh*',\n",
       "       'Jammu & Kashmir', 'Jharkhand', 'Karnataka*', 'Kerala',\n",
       "       'Madhya Pradesh', 'Maharashtra', 'Manipur', 'Meghalaya*',\n",
       "       'Mizoram*', 'Nagaland', 'Odisha*', 'Punjab*', 'Rajasthan',\n",
       "       'Sikkim*', 'Tamil Nadu*', 'Telangana*', 'Tripura*',\n",
       "       'Uttar Pradesh*', 'Uttarakhand', 'West Bengal',\n",
       "       'Andaman & Nicobar Islands', 'Chandigarh', 'Dadra & Nagar Haveli*',\n",
       "       'Daman & Diu', 'Delhi', 'Lakshadweep', 'Puducherry', 'INDIA'],\n",
       "      dtype=object)"
      ]
     },
     "execution_count": 97,
     "metadata": {},
     "output_type": "execute_result"
    }
   ],
   "source": [
    "(govt_hosp[\"State/UT\"].unique())"
   ]
  },
  {
   "cell_type": "code",
   "execution_count": 98,
   "id": "05c072f9",
   "metadata": {},
   "outputs": [],
   "source": [
    "govt_hosp[\"State/UT\"]=govt_hosp[\"State/UT\"].apply(stateset)# function that is already defined"
   ]
  },
  {
   "cell_type": "code",
   "execution_count": 99,
   "id": "809a2720",
   "metadata": {
    "scrolled": true
   },
   "outputs": [
    {
     "data": {
      "text/plain": [
       "array(['Andhra Pradesh', 'Arunachal Pradesh', 'Assam', 'Bihar',\n",
       "       'Chhattisgarh', 'Goa', 'Gujarat', 'Haryana', 'Himachal Pradesh',\n",
       "       'Jammu and Kashmir', 'Jharkhand', 'Karnataka', 'Kerala',\n",
       "       'Madhya Pradesh', 'Maharashtra', 'Manipur', 'Meghalaya', 'Mizoram',\n",
       "       'Nagaland', 'Orissa', 'Punjab', 'Rajasthan', 'Sikkim',\n",
       "       'Tamil Nadu', 'Telangana', 'Tripura', 'Uttar Pradesh',\n",
       "       'Uttarakhand', 'West Bengal', 'Andaman and Nicobar Islands',\n",
       "       'Chandigarh', 'Dadra and Nagar Haveli', 'Daman and Diu',\n",
       "       'Nct Of Delhi', 'Lakshadweep', 'Pondicherry', 'INDIA'],\n",
       "      dtype=object)"
      ]
     },
     "execution_count": 99,
     "metadata": {},
     "output_type": "execute_result"
    }
   ],
   "source": [
    "(govt_hosp[\"State/UT\"].unique())"
   ]
  },
  {
   "cell_type": "code",
   "execution_count": 101,
   "id": "bf4cdbfd",
   "metadata": {},
   "outputs": [],
   "source": [
    "govt_hosp.to_csv(\"/home/student/clean_data/government_hospital.csv\")"
   ]
  },
  {
   "cell_type": "markdown",
   "id": "c6f1f8e7",
   "metadata": {},
   "source": [
    "# Problem Statement 15: (Government healthcare facility disparity)"
   ]
  },
  {
   "cell_type": "code",
   "execution_count": 102,
   "id": "10264028",
   "metadata": {},
   "outputs": [],
   "source": [
    "least3=list(hosp_pop[\"State/UT\"][:3])"
   ]
  },
  {
   "cell_type": "code",
   "execution_count": 103,
   "id": "525e8fbe",
   "metadata": {},
   "outputs": [
    {
     "data": {
      "text/plain": [
       "['Jharkhand', 'Bihar', 'Uttar Pradesh']"
      ]
     },
     "execution_count": 103,
     "metadata": {},
     "output_type": "execute_result"
    }
   ],
   "source": [
    "least3"
   ]
  },
  {
   "cell_type": "code",
   "execution_count": 104,
   "id": "4391dc20",
   "metadata": {
    "scrolled": true
   },
   "outputs": [],
   "source": [
    "task15=govt_hosp[(govt_hosp[\"State/UT\"]==least3[0])|(govt_hosp[\"State/UT\"]==least3[1])|(govt_hosp[\"State/UT\"]==least3[2])]\n",
    "task15=task15.astype({\"Rural_Government_Hospitals\":int,\"Urban_Government_Hospitals\":int})\n",
    "task15[\"Total_Hospitals\"]=task15[\"Rural_Government_Hospitals\"]+task15[\"Urban_Government_Hospitals\"]"
   ]
  },
  {
   "cell_type": "code",
   "execution_count": 134,
   "id": "e27a401a",
   "metadata": {},
   "outputs": [
    {
     "data": {
      "text/plain": [
       "<AxesSubplot:xlabel='State/UT'>"
      ]
     },
     "execution_count": 134,
     "metadata": {},
     "output_type": "execute_result"
    },
    {
     "data": {
      "text/plain": [
       "<Figure size 1080x432 with 0 Axes>"
      ]
     },
     "metadata": {},
     "output_type": "display_data"
    },
    {
     "data": {
      "image/png": "[encoded data removed]",
      "text/plain": [
       "<Figure size 1080x432 with 1 Axes>"
      ]
     },
     "metadata": {
      "needs_background": "light"
     },
     "output_type": "display_data"
    }
   ],
   "source": [
    "plt.figure(figsize=(15,6))\n",
    "task15.plot(x=\"State/UT\",y=\"Total_Hospitals\",figsize=(15,6),label=\"Total_Government_Hospitals\",kind=\"area\")"
   ]
  },
  {
   "cell_type": "code",
   "execution_count": 105,
   "id": "66eb9347",
   "metadata": {},
   "outputs": [
    {
     "name": "stdout",
     "output_type": "stream",
     "text": [
      "Jharkhand is the State which as less hospitals and top 3 less beds per 10000 people\n"
     ]
    }
   ],
   "source": [
    "print(list(task15.sort_values(\"Total_Hospitals\")[\"State/UT\"])[0],\"is the State which as less hospitals and top 3 less beds per 10000 people\")"
   ]
  },
  {
   "cell_type": "markdown",
   "id": "991221e0",
   "metadata": {},
   "source": [
    "## Jharkhand is the State which as less hospitals and top 3 less beds per 10000 people\n"
   ]
  },
  {
   "cell_type": "markdown",
   "id": "66b57947",
   "metadata": {},
   "source": [
    "# Problem Statement 16: (Gap in number of beds)"
   ]
  },
  {
   "cell_type": "markdown",
   "id": "657926d4",
   "metadata": {},
   "source": [
    "### According to WHO standards, a minimum of 3 beds per 1000 people is required.That is equilent to 30 beds per 10000 people"
   ]
  },
  {
   "cell_type": "code",
   "execution_count": 106,
   "id": "9733eefd",
   "metadata": {},
   "outputs": [],
   "source": [
    "task16=hosp_pop.copy()\n",
    "task16.sort_values(by=\"bedsper10000\",ascending=False,inplace=True)\n"
   ]
  },
  {
   "cell_type": "code",
   "execution_count": 124,
   "id": "bd5fde61",
   "metadata": {},
   "outputs": [
    {
     "data": {
      "image/png": "[encoded data removed]",
      "text/plain": [
       "<Figure size 1080x432 with 1 Axes>"
      ]
     },
     "metadata": {
      "needs_background": "light"
     },
     "output_type": "display_data"
    }
   ],
   "source": [
    "task16[\"Required_beds_per_10000\"]=30\n",
    "task16.plot(x=\"State/UT\", y=[\"Required_beds_per_10000\", \"bedsper10000\"], kind=\"bar\",figsize=(15,6));\n",
    "plt.title(\"Actual Beds per 10000 people Vs WFO standerds\");"
   ]
  },
  {
   "cell_type": "markdown",
   "id": "df92c9c6",
   "metadata": {},
   "source": [
    "### Except for the \"Lakshadweep\",\"Pondicherry\",\"Chandigarh\" and \"Andaman and Nicobar Islands\" all other states/UT have gap between bed per 1000 standerds given by UNO and existing count."
   ]
  },
  {
   "cell_type": "markdown",
   "id": "8f724fa2",
   "metadata": {},
   "source": [
    "# Problem Statement 17: (Hospitals required to meet the standards)"
   ]
  },
  {
   "cell_type": "code",
   "execution_count": 108,
   "id": "dc41c719",
   "metadata": {},
   "outputs": [],
   "source": [
    "task17=govt_hosp.copy(deep=True)"
   ]
  },
  {
   "cell_type": "code",
   "execution_count": 109,
   "id": "311bd653",
   "metadata": {},
   "outputs": [],
   "source": [
    "task17[\"State/UT\"].replace(\"INDIA\",\"All India\",inplace=True)"
   ]
  },
  {
   "cell_type": "code",
   "execution_count": 111,
   "id": "8c523f6c",
   "metadata": {},
   "outputs": [],
   "source": [
    "task17=task17.astype({\"Rural_Government_Hospitals\":int,\"Rural_Government_Beds\":int,\"Urban_Government_Hospitals\":int,\"Urban_Government_Beds\":int})"
   ]
  },
  {
   "cell_type": "code",
   "execution_count": 112,
   "id": "d74174e6",
   "metadata": {},
   "outputs": [
    {
     "data": {
      "text/html": [
       "<div>\n",
       "<style scoped>\n",
       "    .dataframe tbody tr th:only-of-type {\n",
       "        vertical-align: middle;\n",
       "    }\n",
       "\n",
       "    .dataframe tbody tr th {\n",
       "        vertical-align: top;\n",
       "    }\n",
       "\n",
       "    .dataframe thead th {\n",
       "        text-align: right;\n",
       "    }\n",
       "</style>\n",
       "<table border=\"1\" class=\"dataframe\">\n",
       "  <thead>\n",
       "    <tr style=\"text-align: right;\">\n",
       "      <th></th>\n",
       "      <th>State/UT</th>\n",
       "      <th>avg_beds_per_hospital</th>\n",
       "    </tr>\n",
       "  </thead>\n",
       "  <tbody>\n",
       "    <tr>\n",
       "      <th>0</th>\n",
       "      <td>Andhra Pradesh</td>\n",
       "      <td>90.0</td>\n",
       "    </tr>\n",
       "    <tr>\n",
       "      <th>1</th>\n",
       "      <td>Arunachal Pradesh</td>\n",
       "      <td>11.0</td>\n",
       "    </tr>\n",
       "    <tr>\n",
       "      <th>2</th>\n",
       "      <td>Assam</td>\n",
       "      <td>14.0</td>\n",
       "    </tr>\n",
       "    <tr>\n",
       "      <th>3</th>\n",
       "      <td>Bihar</td>\n",
       "      <td>12.0</td>\n",
       "    </tr>\n",
       "    <tr>\n",
       "      <th>4</th>\n",
       "      <td>Chhattisgarh</td>\n",
       "      <td>44.0</td>\n",
       "    </tr>\n",
       "  </tbody>\n",
       "</table>\n",
       "</div>"
      ],
      "text/plain": [
       "            State/UT  avg_beds_per_hospital\n",
       "0     Andhra Pradesh                   90.0\n",
       "1  Arunachal Pradesh                   11.0\n",
       "2              Assam                   14.0\n",
       "3              Bihar                   12.0\n",
       "4       Chhattisgarh                   44.0"
      ]
     },
     "execution_count": 112,
     "metadata": {},
     "output_type": "execute_result"
    }
   ],
   "source": [
    "# average beds per hosipital we need to find all_hosipital data\n",
    "task17[\"Total_Hospitals\"]=task17[\"Rural_Government_Hospitals\"]+task17[\"Urban_Government_Hospitals\"]\n",
    "task17[\"Total_Beds\"]=task17[\"Rural_Government_Beds\"]+task17[\"Urban_Government_Beds\"]\n",
    "task17[\"avg_beds_per_hospital\"]=(task17[\"Total_Beds\"]/task17[\"Total_Hospitals\"]).round()\n",
    "avgbeds=pd.DataFrame(task17[[\"State/UT\",\"avg_beds_per_hospital\"]])\n",
    "avgbeds.head()\n",
    "                            "
   ]
  },
  {
   "cell_type": "markdown",
   "id": "105c1278",
   "metadata": {},
   "source": [
    "## Here we need to calculate which state requires how many hospitals based on the strandered of WFO i.e(30 per 10000) "
   ]
  },
  {
   "cell_type": "code",
   "execution_count": 113,
   "id": "770f4603",
   "metadata": {},
   "outputs": [
    {
     "data": {
      "text/plain": [
       "37"
      ]
     },
     "execution_count": 113,
     "metadata": {},
     "output_type": "execute_result"
    }
   ],
   "source": [
    "len(avgbeds)"
   ]
  },
  {
   "cell_type": "code",
   "execution_count": 114,
   "id": "f2c081e4",
   "metadata": {
    "scrolled": true
   },
   "outputs": [],
   "source": [
    "hosp_pop=pd.merge(hosp_pop,avgbeds,on=\"State/UT\")\n"
   ]
  },
  {
   "cell_type": "code",
   "execution_count": 115,
   "id": "ee1f8cb2",
   "metadata": {},
   "outputs": [],
   "source": [
    "\n",
    "hosp_pop[\"Beds_Total_Req\"]=(hosp_pop[\"Population\"]/10000)*30\n",
    "hosp_pop[\"Beds_Gap_Need_Filled\"]=hosp_pop[\"Beds_Total_Req\"]-hosp_pop[\"HospitalBeds\"]\n",
    "hosp_pop[\"Hospitals_Need_construct\"]=(hosp_pop[\"Beds_Gap_Need_Filled\"]/hosp_pop[\"avg_beds_per_hospital\"]).round()\n",
    "hosp_pop[\"Hospitals_Need_construct\"]=hosp_pop[\"Hospitals_Need_construct\"].astype(int)\n"
   ]
  },
  {
   "cell_type": "code",
   "execution_count": 116,
   "id": "2061135c",
   "metadata": {},
   "outputs": [],
   "source": [
    "hosp_pop.sort_values(\"Hospitals_Need_construct\",inplace=True,ascending=False)"
   ]
  },
  {
   "cell_type": "code",
   "execution_count": 117,
   "id": "1c6c4f37",
   "metadata": {
    "scrolled": false
   },
   "outputs": [
    {
     "data": {
      "image/png": "[encoded data removed]",
      "text/plain": [
       "<Figure size 1080x432 with 1 Axes>"
      ]
     },
     "metadata": {
      "needs_background": "light"
     },
     "output_type": "display_data"
    }
   ],
   "source": [
    "plt.figure(figsize=(15,6))\n",
    "plots = sns.barplot(x=\"State/UT\", y=\"Hospitals_Need_construct\", data=hosp_pop[:15])\n",
    "for bar in plots.patches:\n",
    "    plots.annotate(format(bar.get_height(), '.0f'),(bar.get_x() + bar.get_width() / 2, bar.get_height()), ha='center', va='center',size=15, xytext=(0, 8),textcoords='offset points')\n",
    "plt.ylabel(\"count\", size=14)\n",
    "plt.xlabel(\"States or  UT\", size=14)\n",
    "plt.xticks(rotation=80)\n",
    "plt.show();"
   ]
  },
  {
   "cell_type": "code",
   "execution_count": 118,
   "id": "d38eba7d",
   "metadata": {
    "scrolled": false
   },
   "outputs": [
    {
     "data": {
      "image/png": "[encoded data removed]",
      "text/plain": [
       "<Figure size 1080x576 with 1 Axes>"
      ]
     },
     "metadata": {
      "needs_background": "light"
     },
     "output_type": "display_data"
    }
   ],
   "source": [
    "plt.figure(figsize=(15,8))\n",
    "plots = sns.barplot(x=\"State/UT\", y=\"Hospitals_Need_construct\", data=hosp_pop[15:])\n",
    "for bar in plots.patches:\n",
    "    plots.annotate(format(bar.get_height(), '.0f'),(bar.get_x() + bar.get_width() / 2, bar.get_height()), ha='center', va='center',size=15, xytext=(0, 8),textcoords='offset points')\n",
    "plt.ylabel(\"count\", size=14)\n",
    "plt.xlabel(\"States or  UT\", size=14)\n",
    "plt.xticks(rotation=80)\n",
    "plt.show();"
   ]
  },
  {
   "cell_type": "markdown",
   "id": "ef5a5370",
   "metadata": {},
   "source": [
    "## To meet the WHO standerds Hospitals need to be constructed in every state  except Laksadweep,Andaman and Nicobar Islands , Chandigarh and Pondicherry"
   ]
  },
  {
   "cell_type": "code",
   "execution_count": 119,
   "id": "e1bc7aba",
   "metadata": {},
   "outputs": [],
   "source": [
    "end = time.time()"
   ]
  },
  {
   "cell_type": "code",
   "execution_count": 120,
   "id": "042049b5",
   "metadata": {},
   "outputs": [
    {
     "name": "stdout",
     "output_type": "stream",
     "text": [
      "24.52789807319641\n"
     ]
    }
   ],
   "source": [
    "print(end-start)"
   ]
  }
 ],
 "metadata": {
  "kernelspec": {
   "display_name": "Python 3 (ipykernel)",
   "language": "python",
   "name": "python3"
  },
  "language_info": {
   "codemirror_mode": {
    "name": "ipython",
    "version": 3
   },
   "file_extension": ".py",
   "mimetype": "text/x-python",
   "name": "python",
   "nbconvert_exporter": "python",
   "pygments_lexer": "ipython3",
   "version": "3.10.9"
  }
 },
 "nbformat": 4,
 "nbformat_minor": 5
}
